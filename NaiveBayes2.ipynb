{
 "cells": [
  {
   "cell_type": "markdown",
   "metadata": {
    "id": "mrniGYqJS88V"
   },
   "source": [
    "teorema bayes\n",
    "P(A|B) = P(B|A).P(A)/P(B)\n",
    "\n",
    "pada kasus ini\n",
    "P(y|X) = P(X|y).P(y)/P(X)\n",
    "dengan vektor ciri adalah X(x1, x2, ..xn)\n",
    "\n",
    "asumsi semua fitur adalah mutually independent\n",
    "P(y|X) = P(x1|y).P(x2|y)....P(xn|y).P(y) / P(X)\n",
    "\n",
    "memilih kelas dengan probabilitas paling tinggi\n",
    "y = argmax_yP(y|X) = argmas_y P(x1|y).P(x2|y)....P(xn|y).P(y) / P(X)\n",
    "\n",
    "y = argmax_y P(x1|y).P(x2|y)....P(xn|y).P(y) \n",
    "jika nilai probabilitas terlalu kecil maka nilai yang dihasilkan sangat kecil dan kemungkinan terjadi overflow pada program.\n",
    "untuk mengatasi hal tersebut maka dapat digunakan fungsi logaritmik\n",
    "\n",
    "y = argmax_y log( P(x1|y).P(x2|y)....P(xn|y).P(y) )\n",
    "  = argmax_y log P(x1|y)+ log P(x2|y) + .... log P(xn|y)+ log P(y) \n",
    "\n",
    "\n",
    "prior probability P(y) : prekuensi\n",
    "class conditional probability P(x_i|y) =\n",
    "(1/sqrt(2 (phi) (tho_y^2)). exp (- (x_i - mean y)^2/2(tho_y^2))\n",
    "\n",
    "tho_y^2 : variance"
   ]
  },
  {
   "cell_type": "code",
   "execution_count": null,
   "metadata": {
    "execution": {
     "iopub.execute_input": "2021-10-04T01:44:00.324527Z",
     "iopub.status.busy": "2021-10-04T01:44:00.324236Z",
     "iopub.status.idle": "2021-10-04T01:44:00.329602Z",
     "shell.execute_reply": "2021-10-04T01:44:00.328769Z",
     "shell.execute_reply.started": "2021-10-04T01:44:00.324497Z"
    },
    "id": "ohjWJW3qS88h"
   },
   "outputs": [],
   "source": []
  },
  {
   "cell_type": "code",
   "execution_count": null,
   "metadata": {
    "_cell_guid": "b1076dfc-b9ad-4769-8c92-a6c4dae69d19",
    "_uuid": "8f2839f25d086af736a60e9eeb907d3b93b6e0e5",
    "execution": {
     "iopub.execute_input": "2021-10-04T01:42:58.476750Z",
     "iopub.status.busy": "2021-10-04T01:42:58.475926Z",
     "iopub.status.idle": "2021-10-04T01:42:58.483311Z",
     "shell.execute_reply": "2021-10-04T01:42:58.482452Z",
     "shell.execute_reply.started": "2021-10-04T01:42:58.476707Z"
    },
    "id": "eVmZokZyS88i"
   },
   "outputs": [],
   "source": [
    "# This Python 3 environment comes with many helpful analytics libraries installed\n",
    "# It is defined by the kaggle/python Docker image: https://github.com/kaggle/docker-python\n",
    "# For example, here's several helpful packages to load\n",
    "\n",
    "import numpy as np # linear algebra\n",
    "import pandas as pd # data processing, CSV file I/O (e.g. pd.read_csv)\n",
    "\n",
    "# Input data files are available in the read-only \"../input/\" directory\n",
    "# For example, running this (by clicking run or pressing Shift+Enter) will list all files under the input directory\n",
    "\n",
    "import os\n",
    "for dirname, _, filenames in os.walk('/kaggle/input'):\n",
    "    for filename in filenames:\n",
    "        print(os.path.join(dirname, filename))\n",
    "\n",
    "# You can write up to 20GB to the current directory (/kaggle/working/) that gets preserved as output when you create a version using \"Save & Run All\" \n",
    "# You can also write temporary files to /kaggle/temp/, but they won't be saved outside of the current session"
   ]
  },
  {
   "cell_type": "code",
   "execution_count": null,
   "metadata": {
    "id": "-nHkanW5S88k"
   },
   "outputs": [],
   "source": [
    "class NaiveBayes:\n",
    "    def fit(self, X,y):\n",
    "        #dimensi dari data latih\n",
    "        n_samples, n_features = X.shape\n",
    "        #label kelas\n",
    "        self._classes = np.unique(y)\n",
    "        n_classes = len(self._classes)\n",
    "        # misal ukuran X = 100, 5\n",
    "        # misal self._classess =['over_weight', 'not']\n",
    "        #init mean, variance, priors\n",
    "        # menyimpan mean\n",
    "        self._mean = np.zeros((n_classes, n_fetaures), dtype = np.float64)\n",
    "        #menyimpan varians\n",
    "        self._var = np.zeros((n_classes, n_fetaures), dtype = np.float64)\n",
    "        #menyimpan frekuensi setiap kelas\n",
    "        self._priors = np.zeros (n_classes,dtype = np.float64)\n",
    "        \n",
    "        for c in self._classes:\n",
    "            X_c = X[c==y]\n",
    "            self._mean[c,:] = X_c.mean(axis =0)\n",
    "            self._var[c,:]= X_c.var(axis = 0)\n",
    "            self._priors[c]= X_c.shape[0]/float(n_sample)\n",
    "            \n",
    "    def predict(self,X):\n",
    "        y_pred = [self._predict(x) for x in X] # operator \n",
    "        \n",
    "    def _predict(self, x):\n",
    "        posterior =[]\n",
    "        \n",
    "        for idx, c in enumerate(self._classes):\n",
    "            prior = np.log(self._prior[idx])\n",
    "            class_conditional = np.sum(np.log(self._pdf(idx,x)))\n",
    "            posterior = prior + class_conditional\n",
    "            posteriors.append(posterior)\n",
    "        return self._classes[no.argmax(posteriors)]\n",
    "    \n",
    "    \n",
    "    #underscore pada python  menunjukkan internal use dr fungsi\n",
    "    # (1/sqrt(2 (phi) var). exp (- (x_i - mean_y)^2/2var))\n",
    "    def _pdf(self, class_idx, x):\n",
    "        mean = self._mean[class_idx]\n",
    "        var = self._var[class_idx]\n",
    "        numerator = np.exp(-(x-mean)**2/(2*var))\n",
    "        denumerator = np.sqrt(2*np.pi*var)\n",
    "        return numerator/denumerator\n",
    "        \n",
    "        \n",
    "        "
   ]
  },
  {
   "cell_type": "code",
   "execution_count": null,
   "metadata": {
    "id": "souwY6KcS88m"
   },
   "outputs": [],
   "source": [
    "1. siapkan dataset untuk training\n",
    "2. definisikan instant dari kelas naive bayes\n",
    "3. panggil fungsi fit untuk proses training\n",
    "4. panggil fungsi predict untuk menunjukkan kelas dari data yang di cari\n"
   ]
  }
 ],
 "metadata": {
  "colab": {
   "name": "naive-bayes.ipynb",
   "provenance": []
  },
  "kernelspec": {
   "display_name": "Python 3",
   "language": "python",
   "name": "python3"
  },
  "language_info": {
   "codemirror_mode": {
    "name": "ipython",
    "version": 3
   },
   "file_extension": ".py",
   "mimetype": "text/x-python",
   "name": "python",
   "nbconvert_exporter": "python",
   "pygments_lexer": "ipython3",
   "version": "3.8.8"
  }
 },
 "nbformat": 4,
 "nbformat_minor": 1
}
