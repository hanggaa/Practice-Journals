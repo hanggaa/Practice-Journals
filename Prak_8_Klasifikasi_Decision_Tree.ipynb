{
 "cells": [
  {
   "cell_type": "markdown",
   "id": "1d012b3c",
   "metadata": {},
   "source": [
    "## Import Library"
   ]
  },
  {
   "cell_type": "code",
   "execution_count": 1,
   "id": "49a21217",
   "metadata": {},
   "outputs": [],
   "source": [
    "import pandas as pd\n",
    "import numpy as np\n",
    "from sklearn.model_selection import train_test_split\n",
    "from sklearn.neighbors import KNeighborsClassifier\n",
    "from sklearn import tree\n",
    "from sklearn.tree import DecisionTreeClassifier"
   ]
  },
  {
   "cell_type": "markdown",
   "id": "d7728122",
   "metadata": {},
   "source": [
    "## Membaca Data"
   ]
  },
  {
   "cell_type": "code",
   "execution_count": 2,
   "id": "40dfc9dc",
   "metadata": {},
   "outputs": [],
   "source": [
    "dataset = pd.read_csv('C:/Users/hangg/Downloads/Random Aslab/DSDA/Material/Menu_Ohkaeri.csv',sep=\";\") #Sesuaikan dengan directory file masing-masing\n",
    "data = dataset[['Pelanggan', 'Karyawan', 'Stakeholder', 'Kelas']]"
   ]
  },
  {
   "cell_type": "markdown",
   "id": "194c566d",
   "metadata": {},
   "source": [
    "## Memisahkan data yang diuji dan data yang dilatih"
   ]
  },
  {
   "cell_type": "code",
   "execution_count": 3,
   "id": "a342283d",
   "metadata": {},
   "outputs": [],
   "source": [
    "train, test = train_test_split(data, test_size=0.2)"
   ]
  },
  {
   "cell_type": "code",
   "execution_count": 4,
   "id": "caaaf46d",
   "metadata": {},
   "outputs": [],
   "source": [
    "train_data=train[['Pelanggan','Karyawan','Stakeholder']]\n",
    "train_label=train[['Kelas']]\n",
    "test_data=test[['Pelanggan','Karyawan','Stakeholder']]\n",
    "test_label=test[['Kelas']]"
   ]
  },
  {
   "cell_type": "markdown",
   "id": "be1c0e94",
   "metadata": {},
   "source": [
    "## Just in case jika hasil data yang dilatih terdapat nilai null maka harus dibuang"
   ]
  },
  {
   "cell_type": "code",
   "execution_count": 5,
   "id": "05615d9d",
   "metadata": {},
   "outputs": [],
   "source": [
    "pos_null = train_data.index[train_data.isnull().any(axis=1)].tolist()\n",
    "train_data = train_data.drop(pos_null)\n",
    "train_label = train_label.drop(pos_null)"
   ]
  },
  {
   "cell_type": "code",
   "execution_count": 6,
   "id": "aff9298c",
   "metadata": {},
   "outputs": [],
   "source": [
    "pos_null = test_data.index[test_data.isnull().any(axis=1)].tolist()\n",
    "test_data = test_data.drop(pos_null)\n",
    "test_label = test_label.drop(pos_null)"
   ]
  },
  {
   "cell_type": "code",
   "execution_count": 7,
   "id": "c01bac65",
   "metadata": {},
   "outputs": [
    {
     "name": "stdout",
     "output_type": "stream",
     "text": [
      "\n",
      "Test Data:\n",
      "     Pelanggan  Karyawan  Stakeholder\n",
      "52          7       7.0         10.0\n"
     ]
    }
   ],
   "source": [
    "print('\\nTest Data:\\n', test_data)"
   ]
  },
  {
   "cell_type": "markdown",
   "id": "f48295cf",
   "metadata": {},
   "source": [
    "## Menggunakan Fungsi Decision Tree"
   ]
  },
  {
   "cell_type": "code",
   "execution_count": 8,
   "id": "85e373c6",
   "metadata": {},
   "outputs": [
    {
     "data": {
      "text/plain": [
       "DecisionTreeClassifier(criterion='entropy', max_depth=3)"
      ]
     },
     "execution_count": 8,
     "metadata": {},
     "output_type": "execute_result"
    }
   ],
   "source": [
    "dtc=DecisionTreeClassifier(criterion='entropy', max_depth=3)\n",
    "dtc.fit(train_data, train_label)"
   ]
  },
  {
   "cell_type": "code",
   "execution_count": 9,
   "id": "cab31173",
   "metadata": {},
   "outputs": [
    {
     "name": "stdout",
     "output_type": "stream",
     "text": [
      "\n",
      "Class = \n",
      " ['Sedang']\n"
     ]
    }
   ],
   "source": [
    "class_result=dtc.predict(test_data)\n",
    "print('\\nClass = \\n', class_result)"
   ]
  },
  {
   "cell_type": "code",
   "execution_count": 10,
   "id": "6aa50cbd",
   "metadata": {},
   "outputs": [
    {
     "name": "stdout",
     "output_type": "stream",
     "text": [
      "\n",
      "Error ratio =  0.0 %\n"
     ]
    }
   ],
   "source": [
    "acc=dtc.score(test_data, test_label)\n",
    "err=round((1-acc)*100, 2)\n",
    "print('\\nError ratio = ', err, '%')"
   ]
  }
 ],
 "metadata": {
  "kernelspec": {
   "display_name": "Python 3",
   "language": "python",
   "name": "python3"
  },
  "language_info": {
   "codemirror_mode": {
    "name": "ipython",
    "version": 3
   },
   "file_extension": ".py",
   "mimetype": "text/x-python",
   "name": "python",
   "nbconvert_exporter": "python",
   "pygments_lexer": "ipython3",
   "version": "3.8.8"
  }
 },
 "nbformat": 4,
 "nbformat_minor": 5
}
