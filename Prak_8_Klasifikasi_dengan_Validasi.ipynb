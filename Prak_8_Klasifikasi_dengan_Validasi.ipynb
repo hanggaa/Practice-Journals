{
 "cells": [
  {
   "cell_type": "markdown",
   "id": "eb5c986e",
   "metadata": {},
   "source": [
    "## Import Library"
   ]
  },
  {
   "cell_type": "code",
   "execution_count": 1,
   "id": "e07f099c",
   "metadata": {},
   "outputs": [],
   "source": [
    "import pandas as pd\n",
    "from sklearn.model_selection import train_test_split\n",
    "import numpy as np\n",
    "from sklearn.neighbors import KNeighborsClassifier"
   ]
  },
  {
   "cell_type": "markdown",
   "id": "07ca960f",
   "metadata": {},
   "source": [
    "## Membaca data"
   ]
  },
  {
   "cell_type": "code",
   "execution_count": 2,
   "id": "421ab812",
   "metadata": {},
   "outputs": [],
   "source": [
    "dataset = pd.read_csv('C:/Users/hangg/Downloads/Random Aslab/DSDA/Material/Menu_Ohkaeri.csv',sep=\";\") #Sesuaikan dengan directory file masing-masing\n",
    "data = dataset[['Pelanggan', 'Karyawan', 'Stakeholder', 'Kelas']]"
   ]
  },
  {
   "cell_type": "markdown",
   "id": "4d426b2a",
   "metadata": {},
   "source": [
    "## Memisahkan data yang diuji dan data yang dilatih"
   ]
  },
  {
   "cell_type": "code",
   "execution_count": 3,
   "id": "2f4b82f3",
   "metadata": {},
   "outputs": [],
   "source": [
    "train, test = train_test_split(data, test_size=0.2)"
   ]
  },
  {
   "cell_type": "code",
   "execution_count": 4,
   "id": "94b7537e",
   "metadata": {},
   "outputs": [],
   "source": [
    "train_data=train[['Pelanggan','Karyawan','Stakeholder']]\n",
    "train_label=train[['Kelas']]\n",
    "test_data=test[['Pelanggan','Karyawan','Stakeholder']]\n",
    "test_label=test[['Kelas']]"
   ]
  },
  {
   "cell_type": "markdown",
   "id": "a38c61a3",
   "metadata": {},
   "source": [
    "## Just in case jika hasil data yang dilatih terdapat nilai null maka harus dibuang"
   ]
  },
  {
   "cell_type": "code",
   "execution_count": 5,
   "id": "76e15392",
   "metadata": {},
   "outputs": [],
   "source": [
    "pos_null = train_data.index[train_data.isnull().any(axis=1)].tolist()\n",
    "train_data = train_data.drop(pos_null)\n",
    "train_label = train_label.drop(pos_null)"
   ]
  },
  {
   "cell_type": "code",
   "execution_count": 6,
   "id": "478bfbb9",
   "metadata": {},
   "outputs": [],
   "source": [
    "pos_null = test_data.index[test_data.isnull().any(axis=1)].tolist()\n",
    "test_data = test_data.drop(pos_null)\n",
    "test_label = test_label.drop(pos_null)"
   ]
  },
  {
   "cell_type": "markdown",
   "id": "b46f3753",
   "metadata": {},
   "source": [
    "## Menentukan nilai minimum dan maximum data yang dilatih"
   ]
  },
  {
   "cell_type": "code",
   "execution_count": 7,
   "id": "68381d9f",
   "metadata": {},
   "outputs": [],
   "source": [
    "newmin=0\n",
    "newmax=1\n",
    "mindata=train_data.min()\n",
    "maxdata=train_data.max()\n",
    "train_data = ((train_data-mindata) * (newmax-newmin) / (maxdata-mindata)) + newmin\n",
    "test_data = ((test_data-mindata) * (newmax-newmin) / (maxdata-mindata)) + newmin"
   ]
  },
  {
   "cell_type": "markdown",
   "id": "531992df",
   "metadata": {},
   "source": [
    "## Menggunakan Fungsi KNN Klasifikasi"
   ]
  },
  {
   "cell_type": "code",
   "execution_count": 8,
   "id": "c7b4a853",
   "metadata": {},
   "outputs": [],
   "source": [
    "kNN=KNeighborsClassifier(n_neighbors=3, weights='distance')\n",
    "kNN.fit(train_data, np.ravel(train_label))\n",
    "class_result=kNN.predict(test_data)"
   ]
  },
  {
   "cell_type": "code",
   "execution_count": 9,
   "id": "4b85077e",
   "metadata": {},
   "outputs": [
    {
     "name": "stdout",
     "output_type": "stream",
     "text": [
      "Hasil klasifikasi\n",
      " ['Sedang' 'Sedang' 'Sedang' 'Sedang' 'Rendah' 'Sedang' 'Sedang' 'Sedang']\n"
     ]
    }
   ],
   "source": [
    "print('Hasil klasifikasi\\n', class_result)"
   ]
  },
  {
   "cell_type": "markdown",
   "id": "a55ca02b",
   "metadata": {},
   "source": [
    "## Mendeteksi data error yang diuji"
   ]
  },
  {
   "cell_type": "code",
   "execution_count": 10,
   "id": "43fa74fe",
   "metadata": {},
   "outputs": [],
   "source": [
    "error=test_label.loc[:]\n",
    "error['Class_Result']=class_result\n",
    "error['Output']=(error['Kelas'] == error['Class_Result'])"
   ]
  },
  {
   "cell_type": "code",
   "execution_count": 11,
   "id": "566bf0aa",
   "metadata": {},
   "outputs": [
    {
     "name": "stdout",
     "output_type": "stream",
     "text": [
      "\n",
      "\n",
      "Perbandingan dengan class label asli:\n",
      "      Kelas Class_Result  Output\n",
      "32  Sedang       Sedang    True\n",
      "24  Sedang       Sedang    True\n",
      "56  Sedang       Sedang    True\n",
      "28  Sedang       Sedang    True\n",
      "4   Sedang       Rendah   False\n",
      "76  Sedang       Sedang    True\n",
      "12  Sedang       Sedang    True\n",
      "64  Tinggi       Sedang   False\n"
     ]
    }
   ],
   "source": [
    "print('\\n\\nPerbandingan dengan class label asli:\\n', error)"
   ]
  },
  {
   "cell_type": "code",
   "execution_count": 12,
   "id": "c9b6b9ad",
   "metadata": {},
   "outputs": [],
   "source": [
    "precision_ratio=kNN.score(test_data, test_label)\n",
    "error_ratio=1-precision_ratio"
   ]
  },
  {
   "cell_type": "code",
   "execution_count": 13,
   "id": "80a98783",
   "metadata": {},
   "outputs": [
    {
     "name": "stdout",
     "output_type": "stream",
     "text": [
      "\n",
      "\n",
      "Error ratio =  0.25\n"
     ]
    }
   ],
   "source": [
    "print('\\n\\nError ratio = ', error_ratio)"
   ]
  }
 ],
 "metadata": {
  "kernelspec": {
   "display_name": "Python 3",
   "language": "python",
   "name": "python3"
  },
  "language_info": {
   "codemirror_mode": {
    "name": "ipython",
    "version": 3
   },
   "file_extension": ".py",
   "mimetype": "text/x-python",
   "name": "python",
   "nbconvert_exporter": "python",
   "pygments_lexer": "ipython3",
   "version": "3.8.8"
  }
 },
 "nbformat": 4,
 "nbformat_minor": 5
}
