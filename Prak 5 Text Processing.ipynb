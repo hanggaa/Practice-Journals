{
 "cells": [
  {
   "cell_type": "markdown",
   "id": "7b46bf99",
   "metadata": {},
   "source": [
    "# Preprocessing NLTK"
   ]
  },
  {
   "cell_type": "code",
   "execution_count": 1,
   "id": "21501b70",
   "metadata": {},
   "outputs": [
    {
     "name": "stdout",
     "output_type": "stream",
     "text": [
      "Requirement already satisfied: nltk in c:\\users\\hangg\\anaconda3\\lib\\site-packages (3.6.1)\n",
      "Requirement already satisfied: click in c:\\users\\hangg\\anaconda3\\lib\\site-packages (from nltk) (7.1.2)\n",
      "Requirement already satisfied: tqdm in c:\\users\\hangg\\anaconda3\\lib\\site-packages (from nltk) (4.59.0)\n",
      "Requirement already satisfied: joblib in c:\\users\\hangg\\anaconda3\\lib\\site-packages (from nltk) (1.0.1)\n",
      "Requirement already satisfied: regex in c:\\users\\hangg\\anaconda3\\lib\\site-packages (from nltk) (2021.4.4)\n"
     ]
    }
   ],
   "source": [
    "import sys\n",
    "!{sys.executable} -m pip install nltk"
   ]
  },
  {
   "cell_type": "code",
   "execution_count": 2,
   "id": "146c6b1c",
   "metadata": {},
   "outputs": [
    {
     "name": "stderr",
     "output_type": "stream",
     "text": [
      "[nltk_data] Downloading collection 'all'\n",
      "[nltk_data]    | \n",
      "[nltk_data]    | Downloading package abc to\n",
      "[nltk_data]    |     C:\\Users\\hangg\\AppData\\Roaming\\nltk_data...\n",
      "[nltk_data]    |   Unzipping corpora\\abc.zip.\n",
      "[nltk_data]    | Downloading package alpino to\n",
      "[nltk_data]    |     C:\\Users\\hangg\\AppData\\Roaming\\nltk_data...\n",
      "[nltk_data]    |   Unzipping corpora\\alpino.zip.\n",
      "[nltk_data]    | Downloading package biocreative_ppi to\n",
      "[nltk_data]    |     C:\\Users\\hangg\\AppData\\Roaming\\nltk_data...\n",
      "[nltk_data]    |   Unzipping corpora\\biocreative_ppi.zip.\n",
      "[nltk_data]    | Downloading package brown to\n",
      "[nltk_data]    |     C:\\Users\\hangg\\AppData\\Roaming\\nltk_data...\n",
      "[nltk_data]    |   Unzipping corpora\\brown.zip.\n",
      "[nltk_data]    | Downloading package brown_tei to\n",
      "[nltk_data]    |     C:\\Users\\hangg\\AppData\\Roaming\\nltk_data...\n",
      "[nltk_data]    |   Unzipping corpora\\brown_tei.zip.\n",
      "[nltk_data]    | Downloading package cess_cat to\n",
      "[nltk_data]    |     C:\\Users\\hangg\\AppData\\Roaming\\nltk_data...\n",
      "[nltk_data]    |   Unzipping corpora\\cess_cat.zip.\n",
      "[nltk_data]    | Downloading package cess_esp to\n",
      "[nltk_data]    |     C:\\Users\\hangg\\AppData\\Roaming\\nltk_data...\n",
      "[nltk_data]    |   Unzipping corpora\\cess_esp.zip.\n",
      "[nltk_data]    | Downloading package chat80 to\n",
      "[nltk_data]    |     C:\\Users\\hangg\\AppData\\Roaming\\nltk_data...\n",
      "[nltk_data]    |   Unzipping corpora\\chat80.zip.\n",
      "[nltk_data]    | Downloading package city_database to\n",
      "[nltk_data]    |     C:\\Users\\hangg\\AppData\\Roaming\\nltk_data...\n",
      "[nltk_data]    |   Unzipping corpora\\city_database.zip.\n",
      "[nltk_data]    | Downloading package cmudict to\n",
      "[nltk_data]    |     C:\\Users\\hangg\\AppData\\Roaming\\nltk_data...\n",
      "[nltk_data]    |   Unzipping corpora\\cmudict.zip.\n",
      "[nltk_data]    | Downloading package comparative_sentences to\n",
      "[nltk_data]    |     C:\\Users\\hangg\\AppData\\Roaming\\nltk_data...\n",
      "[nltk_data]    |   Unzipping corpora\\comparative_sentences.zip.\n",
      "[nltk_data]    | Downloading package comtrans to\n",
      "[nltk_data]    |     C:\\Users\\hangg\\AppData\\Roaming\\nltk_data...\n",
      "[nltk_data]    | Downloading package conll2000 to\n",
      "[nltk_data]    |     C:\\Users\\hangg\\AppData\\Roaming\\nltk_data...\n",
      "[nltk_data]    |   Unzipping corpora\\conll2000.zip.\n",
      "[nltk_data]    | Downloading package conll2002 to\n",
      "[nltk_data]    |     C:\\Users\\hangg\\AppData\\Roaming\\nltk_data...\n",
      "[nltk_data]    |   Unzipping corpora\\conll2002.zip.\n",
      "[nltk_data]    | Downloading package conll2007 to\n",
      "[nltk_data]    |     C:\\Users\\hangg\\AppData\\Roaming\\nltk_data...\n",
      "[nltk_data]    | Downloading package crubadan to\n",
      "[nltk_data]    |     C:\\Users\\hangg\\AppData\\Roaming\\nltk_data...\n",
      "[nltk_data]    |   Unzipping corpora\\crubadan.zip.\n",
      "[nltk_data]    | Downloading package dependency_treebank to\n",
      "[nltk_data]    |     C:\\Users\\hangg\\AppData\\Roaming\\nltk_data...\n",
      "[nltk_data]    |   Unzipping corpora\\dependency_treebank.zip.\n",
      "[nltk_data]    | Downloading package dolch to\n",
      "[nltk_data]    |     C:\\Users\\hangg\\AppData\\Roaming\\nltk_data...\n",
      "[nltk_data]    |   Unzipping corpora\\dolch.zip.\n",
      "[nltk_data]    | Downloading package europarl_raw to\n",
      "[nltk_data]    |     C:\\Users\\hangg\\AppData\\Roaming\\nltk_data...\n",
      "[nltk_data]    |   Unzipping corpora\\europarl_raw.zip.\n",
      "[nltk_data]    | Downloading package floresta to\n",
      "[nltk_data]    |     C:\\Users\\hangg\\AppData\\Roaming\\nltk_data...\n",
      "[nltk_data]    |   Unzipping corpora\\floresta.zip.\n",
      "[nltk_data]    | Downloading package framenet_v15 to\n",
      "[nltk_data]    |     C:\\Users\\hangg\\AppData\\Roaming\\nltk_data...\n",
      "[nltk_data]    |   Unzipping corpora\\framenet_v15.zip.\n",
      "[nltk_data]    | Downloading package framenet_v17 to\n",
      "[nltk_data]    |     C:\\Users\\hangg\\AppData\\Roaming\\nltk_data...\n",
      "[nltk_data]    |   Unzipping corpora\\framenet_v17.zip.\n",
      "[nltk_data]    | Downloading package gazetteers to\n",
      "[nltk_data]    |     C:\\Users\\hangg\\AppData\\Roaming\\nltk_data...\n",
      "[nltk_data]    |   Unzipping corpora\\gazetteers.zip.\n",
      "[nltk_data]    | Downloading package genesis to\n",
      "[nltk_data]    |     C:\\Users\\hangg\\AppData\\Roaming\\nltk_data...\n",
      "[nltk_data]    |   Unzipping corpora\\genesis.zip.\n",
      "[nltk_data]    | Downloading package gutenberg to\n",
      "[nltk_data]    |     C:\\Users\\hangg\\AppData\\Roaming\\nltk_data...\n",
      "[nltk_data]    |   Unzipping corpora\\gutenberg.zip.\n",
      "[nltk_data]    | Downloading package ieer to\n",
      "[nltk_data]    |     C:\\Users\\hangg\\AppData\\Roaming\\nltk_data...\n",
      "[nltk_data]    |   Unzipping corpora\\ieer.zip.\n",
      "[nltk_data]    | Downloading package inaugural to\n",
      "[nltk_data]    |     C:\\Users\\hangg\\AppData\\Roaming\\nltk_data...\n",
      "[nltk_data]    |   Unzipping corpora\\inaugural.zip.\n",
      "[nltk_data]    | Downloading package indian to\n",
      "[nltk_data]    |     C:\\Users\\hangg\\AppData\\Roaming\\nltk_data...\n",
      "[nltk_data]    |   Unzipping corpora\\indian.zip.\n",
      "[nltk_data]    | Downloading package jeita to\n",
      "[nltk_data]    |     C:\\Users\\hangg\\AppData\\Roaming\\nltk_data...\n",
      "[nltk_data]    | Downloading package kimmo to\n",
      "[nltk_data]    |     C:\\Users\\hangg\\AppData\\Roaming\\nltk_data...\n",
      "[nltk_data]    |   Unzipping corpora\\kimmo.zip.\n",
      "[nltk_data]    | Downloading package knbc to\n",
      "[nltk_data]    |     C:\\Users\\hangg\\AppData\\Roaming\\nltk_data...\n",
      "[nltk_data]    | Downloading package lin_thesaurus to\n",
      "[nltk_data]    |     C:\\Users\\hangg\\AppData\\Roaming\\nltk_data...\n",
      "[nltk_data]    |   Unzipping corpora\\lin_thesaurus.zip.\n",
      "[nltk_data]    | Downloading package mac_morpho to\n",
      "[nltk_data]    |     C:\\Users\\hangg\\AppData\\Roaming\\nltk_data...\n",
      "[nltk_data]    |   Unzipping corpora\\mac_morpho.zip.\n",
      "[nltk_data]    | Downloading package machado to\n",
      "[nltk_data]    |     C:\\Users\\hangg\\AppData\\Roaming\\nltk_data...\n",
      "[nltk_data]    | Downloading package masc_tagged to\n",
      "[nltk_data]    |     C:\\Users\\hangg\\AppData\\Roaming\\nltk_data...\n",
      "[nltk_data]    | Downloading package moses_sample to\n",
      "[nltk_data]    |     C:\\Users\\hangg\\AppData\\Roaming\\nltk_data...\n",
      "[nltk_data]    |   Unzipping models\\moses_sample.zip.\n",
      "[nltk_data]    | Downloading package movie_reviews to\n",
      "[nltk_data]    |     C:\\Users\\hangg\\AppData\\Roaming\\nltk_data...\n",
      "[nltk_data]    |   Unzipping corpora\\movie_reviews.zip.\n",
      "[nltk_data]    | Downloading package names to\n",
      "[nltk_data]    |     C:\\Users\\hangg\\AppData\\Roaming\\nltk_data...\n",
      "[nltk_data]    |   Unzipping corpora\\names.zip.\n",
      "[nltk_data]    | Downloading package nombank.1.0 to\n",
      "[nltk_data]    |     C:\\Users\\hangg\\AppData\\Roaming\\nltk_data...\n",
      "[nltk_data]    | Downloading package nps_chat to\n",
      "[nltk_data]    |     C:\\Users\\hangg\\AppData\\Roaming\\nltk_data...\n",
      "[nltk_data]    |   Unzipping corpora\\nps_chat.zip.\n",
      "[nltk_data]    | Downloading package omw to\n",
      "[nltk_data]    |     C:\\Users\\hangg\\AppData\\Roaming\\nltk_data...\n",
      "[nltk_data]    |   Unzipping corpora\\omw.zip.\n",
      "[nltk_data]    | Downloading package opinion_lexicon to\n",
      "[nltk_data]    |     C:\\Users\\hangg\\AppData\\Roaming\\nltk_data...\n",
      "[nltk_data]    |   Unzipping corpora\\opinion_lexicon.zip.\n",
      "[nltk_data]    | Downloading package paradigms to\n",
      "[nltk_data]    |     C:\\Users\\hangg\\AppData\\Roaming\\nltk_data...\n",
      "[nltk_data]    |   Unzipping corpora\\paradigms.zip.\n",
      "[nltk_data]    | Downloading package pil to\n",
      "[nltk_data]    |     C:\\Users\\hangg\\AppData\\Roaming\\nltk_data...\n",
      "[nltk_data]    |   Unzipping corpora\\pil.zip.\n",
      "[nltk_data]    | Downloading package pl196x to\n",
      "[nltk_data]    |     C:\\Users\\hangg\\AppData\\Roaming\\nltk_data...\n",
      "[nltk_data]    |   Unzipping corpora\\pl196x.zip.\n",
      "[nltk_data]    | Downloading package ppattach to\n",
      "[nltk_data]    |     C:\\Users\\hangg\\AppData\\Roaming\\nltk_data...\n",
      "[nltk_data]    |   Unzipping corpora\\ppattach.zip.\n",
      "[nltk_data]    | Downloading package problem_reports to\n",
      "[nltk_data]    |     C:\\Users\\hangg\\AppData\\Roaming\\nltk_data...\n",
      "[nltk_data]    |   Unzipping corpora\\problem_reports.zip.\n",
      "[nltk_data]    | Downloading package propbank to\n",
      "[nltk_data]    |     C:\\Users\\hangg\\AppData\\Roaming\\nltk_data...\n",
      "[nltk_data]    | Downloading package ptb to\n",
      "[nltk_data]    |     C:\\Users\\hangg\\AppData\\Roaming\\nltk_data...\n",
      "[nltk_data]    |   Unzipping corpora\\ptb.zip.\n",
      "[nltk_data]    | Downloading package product_reviews_1 to\n",
      "[nltk_data]    |     C:\\Users\\hangg\\AppData\\Roaming\\nltk_data...\n",
      "[nltk_data]    |   Unzipping corpora\\product_reviews_1.zip.\n",
      "[nltk_data]    | Downloading package product_reviews_2 to\n",
      "[nltk_data]    |     C:\\Users\\hangg\\AppData\\Roaming\\nltk_data...\n",
      "[nltk_data]    |   Unzipping corpora\\product_reviews_2.zip.\n",
      "[nltk_data]    | Downloading package pros_cons to\n",
      "[nltk_data]    |     C:\\Users\\hangg\\AppData\\Roaming\\nltk_data...\n"
     ]
    },
    {
     "name": "stderr",
     "output_type": "stream",
     "text": [
      "[nltk_data]    |   Unzipping corpora\\pros_cons.zip.\n",
      "[nltk_data]    | Downloading package qc to\n",
      "[nltk_data]    |     C:\\Users\\hangg\\AppData\\Roaming\\nltk_data...\n",
      "[nltk_data]    |   Unzipping corpora\\qc.zip.\n",
      "[nltk_data]    | Downloading package reuters to\n",
      "[nltk_data]    |     C:\\Users\\hangg\\AppData\\Roaming\\nltk_data...\n",
      "[nltk_data]    | Downloading package rte to\n",
      "[nltk_data]    |     C:\\Users\\hangg\\AppData\\Roaming\\nltk_data...\n",
      "[nltk_data]    |   Unzipping corpora\\rte.zip.\n",
      "[nltk_data]    | Downloading package semcor to\n",
      "[nltk_data]    |     C:\\Users\\hangg\\AppData\\Roaming\\nltk_data...\n",
      "[nltk_data]    | Downloading package senseval to\n",
      "[nltk_data]    |     C:\\Users\\hangg\\AppData\\Roaming\\nltk_data...\n",
      "[nltk_data]    |   Unzipping corpora\\senseval.zip.\n",
      "[nltk_data]    | Downloading package sentiwordnet to\n",
      "[nltk_data]    |     C:\\Users\\hangg\\AppData\\Roaming\\nltk_data...\n",
      "[nltk_data]    |   Unzipping corpora\\sentiwordnet.zip.\n",
      "[nltk_data]    | Downloading package sentence_polarity to\n",
      "[nltk_data]    |     C:\\Users\\hangg\\AppData\\Roaming\\nltk_data...\n",
      "[nltk_data]    |   Unzipping corpora\\sentence_polarity.zip.\n",
      "[nltk_data]    | Downloading package shakespeare to\n",
      "[nltk_data]    |     C:\\Users\\hangg\\AppData\\Roaming\\nltk_data...\n",
      "[nltk_data]    |   Unzipping corpora\\shakespeare.zip.\n",
      "[nltk_data]    | Downloading package sinica_treebank to\n",
      "[nltk_data]    |     C:\\Users\\hangg\\AppData\\Roaming\\nltk_data...\n",
      "[nltk_data]    |   Unzipping corpora\\sinica_treebank.zip.\n",
      "[nltk_data]    | Downloading package smultron to\n",
      "[nltk_data]    |     C:\\Users\\hangg\\AppData\\Roaming\\nltk_data...\n",
      "[nltk_data]    |   Unzipping corpora\\smultron.zip.\n",
      "[nltk_data]    | Downloading package state_union to\n",
      "[nltk_data]    |     C:\\Users\\hangg\\AppData\\Roaming\\nltk_data...\n",
      "[nltk_data]    |   Unzipping corpora\\state_union.zip.\n",
      "[nltk_data]    | Downloading package stopwords to\n",
      "[nltk_data]    |     C:\\Users\\hangg\\AppData\\Roaming\\nltk_data...\n",
      "[nltk_data]    |   Unzipping corpora\\stopwords.zip.\n",
      "[nltk_data]    | Downloading package subjectivity to\n",
      "[nltk_data]    |     C:\\Users\\hangg\\AppData\\Roaming\\nltk_data...\n",
      "[nltk_data]    |   Unzipping corpora\\subjectivity.zip.\n",
      "[nltk_data]    | Downloading package swadesh to\n",
      "[nltk_data]    |     C:\\Users\\hangg\\AppData\\Roaming\\nltk_data...\n",
      "[nltk_data]    |   Unzipping corpora\\swadesh.zip.\n",
      "[nltk_data]    | Downloading package switchboard to\n",
      "[nltk_data]    |     C:\\Users\\hangg\\AppData\\Roaming\\nltk_data...\n",
      "[nltk_data]    |   Unzipping corpora\\switchboard.zip.\n",
      "[nltk_data]    | Downloading package timit to\n",
      "[nltk_data]    |     C:\\Users\\hangg\\AppData\\Roaming\\nltk_data...\n",
      "[nltk_data]    |   Unzipping corpora\\timit.zip.\n",
      "[nltk_data]    | Downloading package toolbox to\n",
      "[nltk_data]    |     C:\\Users\\hangg\\AppData\\Roaming\\nltk_data...\n",
      "[nltk_data]    |   Unzipping corpora\\toolbox.zip.\n",
      "[nltk_data]    | Downloading package treebank to\n",
      "[nltk_data]    |     C:\\Users\\hangg\\AppData\\Roaming\\nltk_data...\n",
      "[nltk_data]    |   Unzipping corpora\\treebank.zip.\n",
      "[nltk_data]    | Downloading package twitter_samples to\n",
      "[nltk_data]    |     C:\\Users\\hangg\\AppData\\Roaming\\nltk_data...\n",
      "[nltk_data]    |   Unzipping corpora\\twitter_samples.zip.\n",
      "[nltk_data]    | Downloading package udhr to\n",
      "[nltk_data]    |     C:\\Users\\hangg\\AppData\\Roaming\\nltk_data...\n",
      "[nltk_data]    |   Unzipping corpora\\udhr.zip.\n",
      "[nltk_data]    | Downloading package udhr2 to\n",
      "[nltk_data]    |     C:\\Users\\hangg\\AppData\\Roaming\\nltk_data...\n",
      "[nltk_data]    |   Unzipping corpora\\udhr2.zip.\n",
      "[nltk_data]    | Downloading package unicode_samples to\n",
      "[nltk_data]    |     C:\\Users\\hangg\\AppData\\Roaming\\nltk_data...\n",
      "[nltk_data]    |   Unzipping corpora\\unicode_samples.zip.\n",
      "[nltk_data]    | Downloading package universal_treebanks_v20 to\n",
      "[nltk_data]    |     C:\\Users\\hangg\\AppData\\Roaming\\nltk_data...\n",
      "[nltk_data]    | Downloading package verbnet to\n",
      "[nltk_data]    |     C:\\Users\\hangg\\AppData\\Roaming\\nltk_data...\n",
      "[nltk_data]    |   Unzipping corpora\\verbnet.zip.\n",
      "[nltk_data]    | Downloading package verbnet3 to\n",
      "[nltk_data]    |     C:\\Users\\hangg\\AppData\\Roaming\\nltk_data...\n",
      "[nltk_data]    |   Unzipping corpora\\verbnet3.zip.\n",
      "[nltk_data]    | Downloading package webtext to\n",
      "[nltk_data]    |     C:\\Users\\hangg\\AppData\\Roaming\\nltk_data...\n",
      "[nltk_data]    |   Unzipping corpora\\webtext.zip.\n",
      "[nltk_data]    | Downloading package wordnet to\n",
      "[nltk_data]    |     C:\\Users\\hangg\\AppData\\Roaming\\nltk_data...\n",
      "[nltk_data]    |   Unzipping corpora\\wordnet.zip.\n",
      "[nltk_data]    | Downloading package wordnet31 to\n",
      "[nltk_data]    |     C:\\Users\\hangg\\AppData\\Roaming\\nltk_data...\n",
      "[nltk_data]    |   Unzipping corpora\\wordnet31.zip.\n",
      "[nltk_data]    | Downloading package wordnet_ic to\n",
      "[nltk_data]    |     C:\\Users\\hangg\\AppData\\Roaming\\nltk_data...\n",
      "[nltk_data]    |   Unzipping corpora\\wordnet_ic.zip.\n",
      "[nltk_data]    | Downloading package words to\n",
      "[nltk_data]    |     C:\\Users\\hangg\\AppData\\Roaming\\nltk_data...\n",
      "[nltk_data]    |   Unzipping corpora\\words.zip.\n",
      "[nltk_data]    | Downloading package ycoe to\n",
      "[nltk_data]    |     C:\\Users\\hangg\\AppData\\Roaming\\nltk_data...\n",
      "[nltk_data]    |   Unzipping corpora\\ycoe.zip.\n",
      "[nltk_data]    | Downloading package rslp to\n",
      "[nltk_data]    |     C:\\Users\\hangg\\AppData\\Roaming\\nltk_data...\n",
      "[nltk_data]    |   Unzipping stemmers\\rslp.zip.\n",
      "[nltk_data]    | Downloading package maxent_treebank_pos_tagger to\n",
      "[nltk_data]    |     C:\\Users\\hangg\\AppData\\Roaming\\nltk_data...\n",
      "[nltk_data]    |   Unzipping taggers\\maxent_treebank_pos_tagger.zip.\n",
      "[nltk_data]    | Downloading package universal_tagset to\n",
      "[nltk_data]    |     C:\\Users\\hangg\\AppData\\Roaming\\nltk_data...\n",
      "[nltk_data]    |   Unzipping taggers\\universal_tagset.zip.\n",
      "[nltk_data]    | Downloading package maxent_ne_chunker to\n",
      "[nltk_data]    |     C:\\Users\\hangg\\AppData\\Roaming\\nltk_data...\n",
      "[nltk_data]    |   Unzipping chunkers\\maxent_ne_chunker.zip.\n",
      "[nltk_data]    | Downloading package punkt to\n",
      "[nltk_data]    |     C:\\Users\\hangg\\AppData\\Roaming\\nltk_data...\n",
      "[nltk_data]    |   Unzipping tokenizers\\punkt.zip.\n",
      "[nltk_data]    | Downloading package book_grammars to\n",
      "[nltk_data]    |     C:\\Users\\hangg\\AppData\\Roaming\\nltk_data...\n",
      "[nltk_data]    |   Unzipping grammars\\book_grammars.zip.\n",
      "[nltk_data]    | Downloading package sample_grammars to\n",
      "[nltk_data]    |     C:\\Users\\hangg\\AppData\\Roaming\\nltk_data...\n",
      "[nltk_data]    |   Unzipping grammars\\sample_grammars.zip.\n",
      "[nltk_data]    | Downloading package spanish_grammars to\n",
      "[nltk_data]    |     C:\\Users\\hangg\\AppData\\Roaming\\nltk_data...\n",
      "[nltk_data]    |   Unzipping grammars\\spanish_grammars.zip.\n",
      "[nltk_data]    | Downloading package basque_grammars to\n",
      "[nltk_data]    |     C:\\Users\\hangg\\AppData\\Roaming\\nltk_data...\n",
      "[nltk_data]    |   Unzipping grammars\\basque_grammars.zip.\n",
      "[nltk_data]    | Downloading package large_grammars to\n",
      "[nltk_data]    |     C:\\Users\\hangg\\AppData\\Roaming\\nltk_data...\n",
      "[nltk_data]    |   Unzipping grammars\\large_grammars.zip.\n",
      "[nltk_data]    | Downloading package tagsets to\n",
      "[nltk_data]    |     C:\\Users\\hangg\\AppData\\Roaming\\nltk_data...\n",
      "[nltk_data]    |   Unzipping help\\tagsets.zip.\n",
      "[nltk_data]    | Downloading package snowball_data to\n",
      "[nltk_data]    |     C:\\Users\\hangg\\AppData\\Roaming\\nltk_data...\n",
      "[nltk_data]    | Downloading package bllip_wsj_no_aux to\n",
      "[nltk_data]    |     C:\\Users\\hangg\\AppData\\Roaming\\nltk_data...\n",
      "[nltk_data]    |   Unzipping models\\bllip_wsj_no_aux.zip.\n",
      "[nltk_data]    | Downloading package word2vec_sample to\n",
      "[nltk_data]    |     C:\\Users\\hangg\\AppData\\Roaming\\nltk_data...\n",
      "[nltk_data]    |   Unzipping models\\word2vec_sample.zip.\n",
      "[nltk_data]    | Downloading package panlex_swadesh to\n",
      "[nltk_data]    |     C:\\Users\\hangg\\AppData\\Roaming\\nltk_data...\n",
      "[nltk_data]    | Downloading package mte_teip5 to\n",
      "[nltk_data]    |     C:\\Users\\hangg\\AppData\\Roaming\\nltk_data...\n",
      "[nltk_data]    |   Unzipping corpora\\mte_teip5.zip.\n",
      "[nltk_data]    | Downloading package averaged_perceptron_tagger to\n",
      "[nltk_data]    |     C:\\Users\\hangg\\AppData\\Roaming\\nltk_data...\n",
      "[nltk_data]    |   Unzipping taggers\\averaged_perceptron_tagger.zip.\n",
      "[nltk_data]    | Downloading package averaged_perceptron_tagger_ru to\n",
      "[nltk_data]    |     C:\\Users\\hangg\\AppData\\Roaming\\nltk_data...\n",
      "[nltk_data]    |   Unzipping\n",
      "[nltk_data]    |       taggers\\averaged_perceptron_tagger_ru.zip.\n",
      "[nltk_data]    | Downloading package perluniprops to\n",
      "[nltk_data]    |     C:\\Users\\hangg\\AppData\\Roaming\\nltk_data...\n"
     ]
    },
    {
     "name": "stderr",
     "output_type": "stream",
     "text": [
      "[nltk_data]    |   Unzipping misc\\perluniprops.zip.\n",
      "[nltk_data]    | Downloading package nonbreaking_prefixes to\n",
      "[nltk_data]    |     C:\\Users\\hangg\\AppData\\Roaming\\nltk_data...\n",
      "[nltk_data]    |   Unzipping corpora\\nonbreaking_prefixes.zip.\n",
      "[nltk_data]    | Downloading package vader_lexicon to\n",
      "[nltk_data]    |     C:\\Users\\hangg\\AppData\\Roaming\\nltk_data...\n",
      "[nltk_data]    | Downloading package porter_test to\n",
      "[nltk_data]    |     C:\\Users\\hangg\\AppData\\Roaming\\nltk_data...\n",
      "[nltk_data]    |   Unzipping stemmers\\porter_test.zip.\n",
      "[nltk_data]    | Downloading package wmt15_eval to\n",
      "[nltk_data]    |     C:\\Users\\hangg\\AppData\\Roaming\\nltk_data...\n",
      "[nltk_data]    |   Unzipping models\\wmt15_eval.zip.\n",
      "[nltk_data]    | Downloading package mwa_ppdb to\n",
      "[nltk_data]    |     C:\\Users\\hangg\\AppData\\Roaming\\nltk_data...\n",
      "[nltk_data]    |   Unzipping misc\\mwa_ppdb.zip.\n",
      "[nltk_data]    | \n",
      "[nltk_data]  Done downloading collection all\n"
     ]
    }
   ],
   "source": [
    "import re\n",
    "import string\n",
    "import nltk\n",
    "nltk.download('all')\n",
    "from nltk.tokenize import word_tokenize"
   ]
  },
  {
   "cell_type": "code",
   "execution_count": 3,
   "id": "8b0e4070",
   "metadata": {},
   "outputs": [
    {
     "name": "stdout",
     "output_type": "stream",
     "text": [
      "Bacaan:\n",
      "----------------\n",
      " Sejak sebulan terakhir harga bawang putih dan bombay yang sempat melonjak tinggi akhirnya kembali turun dan stabil di rata-rata Rp. 20.000 per kg. Namun, berkah harga murah yang dinikmati masyarakat kembali terusik dengan mulai naiknya harga bawang putih di pasar. Pemerhati Pertanian, Syaiful Bahari, menjelaskan masalah kenaikan harga komoditi yang terkait dengan impor seperti bawang putih, bombay dan gula, selama ini lebih banyak disebabkan oleh kebijakan restriksi atau pembatasan yang diberlakukan oleh pemerintah sendiri. Untuk kasus bawang putih dan bombay, lanjut Syaiful, ketika relaksasi diberlakukan terbukti harga turun drastis. Bombay dari Rp 150.000 per kilo gram menjadi Rp 17.000 sampai Rp. 20.000 per kilo gram. Sehingga kedua komoditi ini menyumbang deflasi.\n",
      "\n",
      "\n"
     ]
    }
   ],
   "source": [
    "f = open(\"C:/Users/hangg/Downloads/Random Aslab/DSDA/Material/news.txt\",\"r\") #Pastikan sesuai dengan directory file\n",
    "text = f.read()\n",
    "f.close()\n",
    "\n",
    "print(\"Bacaan:\\n----------------\\n\", text)"
   ]
  },
  {
   "cell_type": "code",
   "execution_count": 4,
   "id": "d61b9d8d",
   "metadata": {},
   "outputs": [
    {
     "name": "stdout",
     "output_type": "stream",
     "text": [
      "Huruf kecil semua:\n",
      "----------------\n",
      " sejak sebulan terakhir harga bawang putih dan bombay yang sempat melonjak tinggi akhirnya kembali turun dan stabil di rata-rata rp. 20.000 per kg. namun, berkah harga murah yang dinikmati masyarakat kembali terusik dengan mulai naiknya harga bawang putih di pasar. pemerhati pertanian, syaiful bahari, menjelaskan masalah kenaikan harga komoditi yang terkait dengan impor seperti bawang putih, bombay dan gula, selama ini lebih banyak disebabkan oleh kebijakan restriksi atau pembatasan yang diberlakukan oleh pemerintah sendiri. untuk kasus bawang putih dan bombay, lanjut syaiful, ketika relaksasi diberlakukan terbukti harga turun drastis. bombay dari rp 150.000 per kilo gram menjadi rp 17.000 sampai rp. 20.000 per kilo gram. sehingga kedua komoditi ini menyumbang deflasi.\n",
      "\n",
      "\n"
     ]
    }
   ],
   "source": [
    "text = text.lower()\n",
    "print(\"Huruf kecil semua:\\n----------------\\n\", text)"
   ]
  },
  {
   "cell_type": "code",
   "execution_count": 5,
   "id": "8e1e1ffd",
   "metadata": {},
   "outputs": [
    {
     "name": "stdout",
     "output_type": "stream",
     "text": [
      "Menghilangkan angka:\n",
      "----------------\n",
      " sejak sebulan terakhir harga bawang putih dan bombay yang sempat melonjak tinggi akhirnya kembali turun dan stabil di rata-rata rp. . per kg. namun, berkah harga murah yang dinikmati masyarakat kembali terusik dengan mulai naiknya harga bawang putih di pasar. pemerhati pertanian, syaiful bahari, menjelaskan masalah kenaikan harga komoditi yang terkait dengan impor seperti bawang putih, bombay dan gula, selama ini lebih banyak disebabkan oleh kebijakan restriksi atau pembatasan yang diberlakukan oleh pemerintah sendiri. untuk kasus bawang putih dan bombay, lanjut syaiful, ketika relaksasi diberlakukan terbukti harga turun drastis. bombay dari rp . per kilo gram menjadi rp . sampai rp. . per kilo gram. sehingga kedua komoditi ini menyumbang deflasi.\n",
      "\n",
      "\n"
     ]
    }
   ],
   "source": [
    "text = re.sub(r\"\\d+\", \"\", text)\n",
    "print(\"Menghilangkan angka:\\n----------------\\n\", text)"
   ]
  },
  {
   "cell_type": "code",
   "execution_count": 6,
   "id": "cec5a70d",
   "metadata": {},
   "outputs": [
    {
     "name": "stdout",
     "output_type": "stream",
     "text": [
      "Menghilangkan Tanda Baca:\n",
      "----------------\n",
      " sejak sebulan terakhir harga bawang putih dan bombay yang sempat melonjak tinggi akhirnya kembali turun dan stabil di ratarata rp  per kg namun berkah harga murah yang dinikmati masyarakat kembali terusik dengan mulai naiknya harga bawang putih di pasar pemerhati pertanian syaiful bahari menjelaskan masalah kenaikan harga komoditi yang terkait dengan impor seperti bawang putih bombay dan gula selama ini lebih banyak disebabkan oleh kebijakan restriksi atau pembatasan yang diberlakukan oleh pemerintah sendiri untuk kasus bawang putih dan bombay lanjut syaiful ketika relaksasi diberlakukan terbukti harga turun drastis bombay dari rp  per kilo gram menjadi rp  sampai rp  per kilo gram sehingga kedua komoditi ini menyumbang deflasi\n",
      "\n",
      "\n"
     ]
    }
   ],
   "source": [
    "text = text.translate(str.maketrans(\"\",\"\",string.punctuation))\n",
    "print(\"Menghilangkan Tanda Baca:\\n----------------\\n\",text)"
   ]
  },
  {
   "cell_type": "code",
   "execution_count": 7,
   "id": "2538839d",
   "metadata": {},
   "outputs": [
    {
     "name": "stdout",
     "output_type": "stream",
     "text": [
      "\n",
      "Karakter Kosong hilang:\n",
      "----------------\n",
      " sejak sebulan terakhir harga bawang putih dan bombay yang sempat melonjak tinggi akhirnya kembali turun dan stabil di ratarata rp  per kg namun berkah harga murah yang dinikmati masyarakat kembali terusik dengan mulai naiknya harga bawang putih di pasar pemerhati pertanian syaiful bahari menjelaskan masalah kenaikan harga komoditi yang terkait dengan impor seperti bawang putih bombay dan gula selama ini lebih banyak disebabkan oleh kebijakan restriksi atau pembatasan yang diberlakukan oleh pemerintah sendiri untuk kasus bawang putih dan bombay lanjut syaiful ketika relaksasi diberlakukan terbukti harga turun drastis bombay dari rp  per kilo gram menjadi rp  sampai rp  per kilo gram sehingga kedua komoditi ini menyumbang deflasi\n"
     ]
    }
   ],
   "source": [
    "text = text.strip()\n",
    "print(\"\\nKarakter Kosong hilang:\\n----------------\\n\",text)"
   ]
  },
  {
   "cell_type": "markdown",
   "id": "8fd26b7c",
   "metadata": {},
   "source": [
    "### Tokenizing\n",
    "Tokenizing adalah kegiatan untuk memecah satu kalimat menjadi satu suku kata sebelum data diolah lebih mendalam"
   ]
  },
  {
   "cell_type": "code",
   "execution_count": 8,
   "id": "83203f4b",
   "metadata": {},
   "outputs": [
    {
     "name": "stdout",
     "output_type": "stream",
     "text": [
      "Tokenizing:\n",
      "----------------\n",
      " ['sejak', 'sebulan', 'terakhir', 'harga', 'bawang', 'putih', 'dan', 'bombay', 'yang', 'sempat', 'melonjak', 'tinggi', 'akhirnya', 'kembali', 'turun', 'dan', 'stabil', 'di', 'ratarata', 'rp', 'per', 'kg', 'namun', 'berkah', 'harga', 'murah', 'yang', 'dinikmati', 'masyarakat', 'kembali', 'terusik', 'dengan', 'mulai', 'naiknya', 'harga', 'bawang', 'putih', 'di', 'pasar', 'pemerhati', 'pertanian', 'syaiful', 'bahari', 'menjelaskan', 'masalah', 'kenaikan', 'harga', 'komoditi', 'yang', 'terkait', 'dengan', 'impor', 'seperti', 'bawang', 'putih', 'bombay', 'dan', 'gula', 'selama', 'ini', 'lebih', 'banyak', 'disebabkan', 'oleh', 'kebijakan', 'restriksi', 'atau', 'pembatasan', 'yang', 'diberlakukan', 'oleh', 'pemerintah', 'sendiri', 'untuk', 'kasus', 'bawang', 'putih', 'dan', 'bombay', 'lanjut', 'syaiful', 'ketika', 'relaksasi', 'diberlakukan', 'terbukti', 'harga', 'turun', 'drastis', 'bombay', 'dari', 'rp', 'per', 'kilo', 'gram', 'menjadi', 'rp', 'sampai', 'rp', 'per', 'kilo', 'gram', 'sehingga', 'kedua', 'komoditi', 'ini', 'menyumbang', 'deflasi']\n"
     ]
    }
   ],
   "source": [
    "tokens = word_tokenize(text)\n",
    "print(\"Tokenizing:\\n----------------\\n\", tokens)"
   ]
  },
  {
   "cell_type": "markdown",
   "id": "f137ffab",
   "metadata": {},
   "source": [
    "# Sastrawi\n",
    "Sastrawi adalah library NLTK untuk mereduksi atau mengolah kata-kata dalam bahasa Indonesia"
   ]
  },
  {
   "cell_type": "code",
   "execution_count": 16,
   "id": "0100736e",
   "metadata": {},
   "outputs": [
    {
     "name": "stdout",
     "output_type": "stream",
     "text": [
      "Requirement already satisfied: Sastrawi in c:\\users\\hangg\\anaconda3\\lib\\site-packages (1.0.1)\n"
     ]
    }
   ],
   "source": [
    "!{sys.executable} -m pip install Sastrawi\n",
    "from nltk.corpus import stopwords\n",
    "from nltk.probability import FreqDist\n",
    "from Sastrawi.StopWordRemover.StopWordRemoverFactory import StopWordRemoverFactory\n",
    "from Sastrawi.Stemmer.StemmerFactory import StemmerFactory\n",
    "import matplotlib.pyplot as plt"
   ]
  },
  {
   "cell_type": "markdown",
   "id": "f527f838",
   "metadata": {},
   "source": [
    "## Filter Sastrawi\n",
    "Filtering adalah suatu kegiatan untuk menghapus kata yang tidak ada maknanya atau berulang"
   ]
  },
  {
   "cell_type": "code",
   "execution_count": 17,
   "id": "9462ce3a",
   "metadata": {},
   "outputs": [
    {
     "name": "stdout",
     "output_type": "stream",
     "text": [
      "\n",
      "Setelah filtering:\n",
      "----------------\n",
      " sejak bulan akhir harga bawang putih bombay sempat lonjak tinggi akhir turun stabil ratarata rp per kg berkah harga murah nikmat masyarakat usik mulai naik harga bawang putih pasar perhati tani syaiful bahari jelas masalah naik harga komoditi kait impor bawang putih bombay gula lama lebih banyak bijak restriksi batas laku perintah sendiri kasus bawang putih bombay lanjut syaiful relaksasi laku bukti harga turun drastis bombay rp per kilo gram jadi rp rp per kilo gram komoditi sumbang deflasi\n"
     ]
    }
   ],
   "source": [
    "factory = StopWordRemoverFactory()\n",
    "stopword = factory.create_stop_word_remover()\n",
    "text = stopword.remove(text)\n",
    "print(\"\\nSetelah filtering:\\n----------------\\n\", text)"
   ]
  },
  {
   "cell_type": "markdown",
   "id": "5cd11b89",
   "metadata": {},
   "source": [
    "## Stemming Sastrawi\n",
    "Stemming adalah suatu kegiatan untuk mengubah suatu kata menjadi bentuk dasarnya seperti <br> Bekerja => Kerja <br> Menyumbang: Sumbang"
   ]
  },
  {
   "cell_type": "code",
   "execution_count": 18,
   "id": "2ecfe686",
   "metadata": {},
   "outputs": [
    {
     "name": "stdout",
     "output_type": "stream",
     "text": [
      "\n",
      "Output stemming:\n",
      "----------------\n",
      " sejak bulan akhir harga bawang putih bombay sempat lonjak tinggi akhir turun stabil ratarata rp per kg berkah harga murah nikmat masyarakat usik mulai naik harga bawang putih pasar perhati tani syaiful bahari jelas masalah naik harga komoditi kait impor bawang putih bombay gula lama lebih banyak bijak restriksi batas laku perintah sendiri kasus bawang putih bombay lanjut syaiful relaksasi laku bukti harga turun drastis bombay rp per kilo gram jadi rp rp per kilo gram komoditi sumbang deflasi\n"
     ]
    }
   ],
   "source": [
    "factory = StemmerFactory()\n",
    "stemmer = factory.create_stemmer()\n",
    "text = stemmer.stem(text)\n",
    "print(\"\\nOutput stemming:\\n----------------\\n\", text)"
   ]
  },
  {
   "cell_type": "markdown",
   "id": "93809d0b",
   "metadata": {},
   "source": [
    "## Analisis Teks Sastrawi"
   ]
  },
  {
   "cell_type": "code",
   "execution_count": 19,
   "id": "868b6f05",
   "metadata": {},
   "outputs": [
    {
     "name": "stdout",
     "output_type": "stream",
     "text": [
      "\n",
      "Term Frequency:\n",
      "----------------\n",
      " [('harga', 5), ('bawang', 4), ('putih', 4), ('dan', 4), ('bombay', 4), ('yang', 4), ('rp', 4), ('per', 3), ('kembali', 2), ('turun', 2), ('di', 2), ('dengan', 2), ('syaiful', 2), ('komoditi', 2), ('ini', 2), ('oleh', 2), ('diberlakukan', 2), ('kilo', 2), ('gram', 2), ('sejak', 1), ('sebulan', 1), ('terakhir', 1), ('sempat', 1), ('melonjak', 1), ('tinggi', 1), ('akhirnya', 1), ('stabil', 1), ('ratarata', 1), ('kg', 1), ('namun', 1), ('berkah', 1), ('murah', 1), ('dinikmati', 1), ('masyarakat', 1), ('terusik', 1), ('mulai', 1), ('naiknya', 1), ('pasar', 1), ('pemerhati', 1), ('pertanian', 1), ('bahari', 1), ('menjelaskan', 1), ('masalah', 1), ('kenaikan', 1), ('terkait', 1), ('impor', 1), ('seperti', 1), ('gula', 1), ('selama', 1), ('lebih', 1), ('banyak', 1), ('disebabkan', 1), ('kebijakan', 1), ('restriksi', 1), ('atau', 1), ('pembatasan', 1), ('pemerintah', 1), ('sendiri', 1), ('untuk', 1), ('kasus', 1), ('lanjut', 1), ('ketika', 1), ('relaksasi', 1), ('terbukti', 1), ('drastis', 1), ('dari', 1), ('menjadi', 1), ('sampai', 1), ('sehingga', 1), ('kedua', 1), ('menyumbang', 1), ('deflasi', 1)]\n"
     ]
    }
   ],
   "source": [
    "tf = FreqDist(tokens)\n",
    "print(\"\\nTerm Frequency:\\n----------------\\n\", tf.most_common())"
   ]
  },
  {
   "cell_type": "code",
   "execution_count": 20,
   "id": "e453692b",
   "metadata": {},
   "outputs": [
    {
     "name": "stdout",
     "output_type": "stream",
     "text": [
      "\n",
      "Keyword yang paling banyak muncul:\n",
      "----------------\n",
      " harga = 5 \n",
      "\n"
     ]
    }
   ],
   "source": [
    "word, frequency= tf.most_common()[0]\n",
    "print(\"\\nKeyword yang paling banyak muncul:\\n----------------\\n\", word, \"=\", frequency , \"\\n\")"
   ]
  },
  {
   "cell_type": "code",
   "execution_count": 21,
   "id": "c00f4156",
   "metadata": {},
   "outputs": [
    {
     "name": "stdout",
     "output_type": "stream",
     "text": [
      "\n",
      "Keseluruhan keywords:\n",
      "----------------\n",
      "\n",
      "harga : 5\n",
      "bawang : 4\n",
      "putih : 4\n",
      "dan : 4\n",
      "bombay : 4\n",
      "yang : 4\n",
      "rp : 4\n",
      "per : 3\n",
      "kembali : 2\n",
      "turun : 2\n",
      "di : 2\n",
      "dengan : 2\n",
      "syaiful : 2\n",
      "komoditi : 2\n",
      "ini : 2\n",
      "oleh : 2\n",
      "diberlakukan : 2\n",
      "kilo : 2\n",
      "gram : 2\n",
      "sejak : 1\n",
      "sebulan : 1\n",
      "terakhir : 1\n",
      "sempat : 1\n",
      "melonjak : 1\n",
      "tinggi : 1\n",
      "akhirnya : 1\n",
      "stabil : 1\n",
      "ratarata : 1\n",
      "kg : 1\n",
      "namun : 1\n",
      "berkah : 1\n",
      "murah : 1\n",
      "dinikmati : 1\n",
      "masyarakat : 1\n",
      "terusik : 1\n",
      "mulai : 1\n",
      "naiknya : 1\n",
      "pasar : 1\n",
      "pemerhati : 1\n",
      "pertanian : 1\n",
      "bahari : 1\n",
      "menjelaskan : 1\n",
      "masalah : 1\n",
      "kenaikan : 1\n",
      "terkait : 1\n",
      "impor : 1\n",
      "seperti : 1\n",
      "gula : 1\n",
      "selama : 1\n",
      "lebih : 1\n",
      "banyak : 1\n",
      "disebabkan : 1\n",
      "kebijakan : 1\n",
      "restriksi : 1\n",
      "atau : 1\n",
      "pembatasan : 1\n",
      "pemerintah : 1\n",
      "sendiri : 1\n",
      "untuk : 1\n",
      "kasus : 1\n",
      "lanjut : 1\n",
      "ketika : 1\n",
      "relaksasi : 1\n",
      "terbukti : 1\n",
      "drastis : 1\n",
      "dari : 1\n",
      "menjadi : 1\n",
      "sampai : 1\n",
      "sehingga : 1\n",
      "kedua : 1\n",
      "menyumbang : 1\n",
      "deflasi : 1\n"
     ]
    }
   ],
   "source": [
    "print(\"\\nKeseluruhan keywords:\\n----------------\\n\")\n",
    "for word, frequency in tf.most_common():\n",
    "    print(word, \":\", frequency)"
   ]
  },
  {
   "cell_type": "code",
   "execution_count": 22,
   "id": "35fbda3f",
   "metadata": {},
   "outputs": [
    {
     "data": {
      "image/png": "[encoded data removed]",
      "text/plain": [
       "<Figure size 432x288 with 1 Axes>"
      ]
     },
     "metadata": {
      "needs_background": "light"
     },
     "output_type": "display_data"
    }
   ],
   "source": [
    "tf.plot(cumulative=False)\n",
    "plt.show()"
   ]
  },
  {
   "cell_type": "markdown",
   "id": "96bcf90e",
   "metadata": {},
   "source": [
    "# Porter\n",
    "Porter adalah library NLTK untuk mereduksi atau mengolah kata-kata dalam bahasa Universal"
   ]
  },
  {
   "cell_type": "code",
   "execution_count": 23,
   "id": "736e2078",
   "metadata": {},
   "outputs": [],
   "source": [
    "from nltk.stem import PorterStemmer"
   ]
  },
  {
   "cell_type": "markdown",
   "id": "a44ab6ec",
   "metadata": {},
   "source": [
    "## Filter Porter"
   ]
  },
  {
   "cell_type": "code",
   "execution_count": 26,
   "id": "53c54674",
   "metadata": {},
   "outputs": [
    {
     "name": "stdout",
     "output_type": "stream",
     "text": [
      "\n",
      "Setelah filtering\n",
      "----------------\n",
      " ['sebulan', 'harga', 'bawang', 'putih', 'bombay', 'melonjak', 'turun', 'stabil', 'ratarata', 'rp', 'kg', 'berkah', 'harga', 'murah', 'dinikmati', 'masyarakat', 'terusik', 'naiknya', 'harga', 'bawang', 'putih', 'pasar', 'pemerhati', 'pertanian', 'syaiful', 'bahari', 'kenaikan', 'harga', 'komoditi', 'terkait', 'impor', 'bawang', 'putih', 'bombay', 'gula', 'disebabkan', 'kebijakan', 'restriksi', 'pembatasan', 'diberlakukan', 'pemerintah', 'bawang', 'putih', 'bombay', 'syaiful', 'relaksasi', 'diberlakukan', 'terbukti', 'harga', 'turun', 'drastis', 'bombay', 'rp', 'kilo', 'gram', 'rp', 'rp', 'kilo', 'gram', 'komoditi', 'menyumbang', 'deflasi']\n"
     ]
    }
   ],
   "source": [
    "listStopword = set(stopwords.words('indonesian'))\n",
    "tmpstr = []\n",
    "for t in tokens:\n",
    "    if t not in listStopword:\n",
    "        tmpstr.append(t)\n",
    "        tokens=tmpstr\n",
    "print(\"\\nSetelah filtering\\n----------------\\n\", tokens)"
   ]
  },
  {
   "cell_type": "markdown",
   "id": "a10e0c67",
   "metadata": {},
   "source": [
    "## Stemming Porter"
   ]
  },
  {
   "cell_type": "code",
   "execution_count": 28,
   "id": "707f9a3d",
   "metadata": {},
   "outputs": [
    {
     "name": "stdout",
     "output_type": "stream",
     "text": [
      "\n",
      "Output stemming:\n",
      "----------------\n",
      " ['sebulan', 'harga', 'bawang', 'putih', 'bombay', 'melonjak', 'turun', 'stabil', 'ratarata', 'rp', 'kg', 'berkah', 'harga', 'murah', 'dinikmati', 'masyarakat', 'terusik', 'naiknya', 'harga', 'bawang', 'putih', 'pasar', 'pemerhati', 'pertanian', 'syaiful', 'bahari', 'kenaikan', 'harga', 'komod', 'terkait', 'impor', 'bawang', 'putih', 'bombay', 'gula', 'disebabkan', 'kebijakan', 'restriksi', 'pembatasan', 'diberlakukan', 'pemerintah', 'bawang', 'putih', 'bombay', 'syaiful', 'relaksasi', 'diberlakukan', 'terbukti', 'harga', 'turun', 'drasti', 'bombay', 'rp', 'kilo', 'gram', 'rp', 'rp', 'kilo', 'gram', 'komod', 'menyumbang', 'deflasi']\n"
     ]
    }
   ],
   "source": [
    "tmpstr = []\n",
    "ps = PorterStemmer()\n",
    "for k in tokens:\n",
    "    tmpstr.append(ps.stem(k))\n",
    "tokens=tmpstr\n",
    "print(\"\\nOutput stemming:\\n----------------\\n\", tokens)"
   ]
  },
  {
   "cell_type": "markdown",
   "id": "0c6afa3c",
   "metadata": {},
   "source": [
    "## Analisis Teks Porter"
   ]
  },
  {
   "cell_type": "code",
   "execution_count": 29,
   "id": "d3c5ff20",
   "metadata": {},
   "outputs": [
    {
     "name": "stdout",
     "output_type": "stream",
     "text": [
      "\n",
      "Term Frequency:\n",
      "----------------\n",
      " [('harga', 5), ('bawang', 4), ('putih', 4), ('bombay', 4), ('rp', 4), ('turun', 2), ('syaiful', 2), ('komod', 2), ('diberlakukan', 2), ('kilo', 2), ('gram', 2), ('sebulan', 1), ('melonjak', 1), ('stabil', 1), ('ratarata', 1), ('kg', 1), ('berkah', 1), ('murah', 1), ('dinikmati', 1), ('masyarakat', 1), ('terusik', 1), ('naiknya', 1), ('pasar', 1), ('pemerhati', 1), ('pertanian', 1), ('bahari', 1), ('kenaikan', 1), ('terkait', 1), ('impor', 1), ('gula', 1), ('disebabkan', 1), ('kebijakan', 1), ('restriksi', 1), ('pembatasan', 1), ('pemerintah', 1), ('relaksasi', 1), ('terbukti', 1), ('drasti', 1), ('menyumbang', 1), ('deflasi', 1)]\n"
     ]
    }
   ],
   "source": [
    "tf = FreqDist(tokens)\n",
    "print(\"\\nTerm Frequency:\\n----------------\\n\", tf.most_common())"
   ]
  },
  {
   "cell_type": "code",
   "execution_count": 30,
   "id": "d0303c90",
   "metadata": {},
   "outputs": [
    {
     "name": "stdout",
     "output_type": "stream",
     "text": [
      "\n",
      "Keyword yang paling banyak muncul:\n",
      "----------------\n",
      " harga = 5 \n",
      "\n"
     ]
    }
   ],
   "source": [
    "word, frequency=tf.most_common()[0]\n",
    "print(\"\\nKeyword yang paling banyak muncul:\\n----------------\\n\", word, \"=\", frequency , \"\\n\")"
   ]
  },
  {
   "cell_type": "code",
   "execution_count": 31,
   "id": "bc4b3214",
   "metadata": {},
   "outputs": [
    {
     "name": "stdout",
     "output_type": "stream",
     "text": [
      "\n",
      "Keseluruhan keywords:\n",
      "----------------\n",
      "\n",
      "harga : 5\n",
      "bawang : 4\n",
      "putih : 4\n",
      "bombay : 4\n",
      "rp : 4\n",
      "turun : 2\n",
      "syaiful : 2\n",
      "komod : 2\n",
      "diberlakukan : 2\n",
      "kilo : 2\n",
      "gram : 2\n",
      "sebulan : 1\n",
      "melonjak : 1\n",
      "stabil : 1\n",
      "ratarata : 1\n",
      "kg : 1\n",
      "berkah : 1\n",
      "murah : 1\n",
      "dinikmati : 1\n",
      "masyarakat : 1\n",
      "terusik : 1\n",
      "naiknya : 1\n",
      "pasar : 1\n",
      "pemerhati : 1\n",
      "pertanian : 1\n",
      "bahari : 1\n",
      "kenaikan : 1\n",
      "terkait : 1\n",
      "impor : 1\n",
      "gula : 1\n",
      "disebabkan : 1\n",
      "kebijakan : 1\n",
      "restriksi : 1\n",
      "pembatasan : 1\n",
      "pemerintah : 1\n",
      "relaksasi : 1\n",
      "terbukti : 1\n",
      "drasti : 1\n",
      "menyumbang : 1\n",
      "deflasi : 1\n"
     ]
    }
   ],
   "source": [
    "print(\"\\nKeseluruhan keywords:\\n----------------\\n\")\n",
    "for word, frequency in tf.most_common():\n",
    "    print(word, \":\", frequency)"
   ]
  },
  {
   "cell_type": "code",
   "execution_count": 32,
   "id": "f307c5e2",
   "metadata": {},
   "outputs": [
    {
     "data": {
      "image/png": "[encoded data removed]",
      "text/plain": [
       "<Figure size 432x288 with 1 Axes>"
      ]
     },
     "metadata": {
      "needs_background": "light"
     },
     "output_type": "display_data"
    }
   ],
   "source": [
    "tf.plot(cumulative=False)\n",
    "plt.show()"
   ]
  },
  {
   "cell_type": "code",
   "execution_count": null,
   "id": "a2e735fc",
   "metadata": {},
   "outputs": [],
   "source": []
  }
 ],
 "metadata": {
  "kernelspec": {
   "display_name": "Python 3",
   "language": "python",
   "name": "python3"
  },
  "language_info": {
   "codemirror_mode": {
    "name": "ipython",
    "version": 3
   },
   "file_extension": ".py",
   "mimetype": "text/x-python",
   "name": "python",
   "nbconvert_exporter": "python",
   "pygments_lexer": "ipython3",
   "version": "3.8.8"
  }
 },
 "nbformat": 4,
 "nbformat_minor": 5
}
