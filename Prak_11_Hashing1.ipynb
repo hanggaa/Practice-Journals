{
 "cells": [
  {
   "cell_type": "markdown",
   "id": "25f8b4ab",
   "metadata": {},
   "source": [
    "# Image Hashing\n",
    "Image Hashing adalah teknik yang digunakan untuk mengkonversi gambar ke string alfanumerik. Image Hashing memiliki dua kegunaan utama: memungkinkan mendeteksi gambar yang identik atau serupa secara visual, dan memungkinkan menyimpan sidik jari gambar sehingga Anda tidak perlu memuat ulang setiap gambar untuk memeriksanya. <br>\n",
    "\n",
    "# Cara Kerja Image Hashing\n",
    "Hashing mengubah gambar menjadi string alfanumerik pendek yang mewakili keunikan gambar. Karena hash adalah string kecil dan berbasis teks, seperti <b>e7643c330f0f0f0f</b>, hash dapat disimpan tanpa menghabiskan banyak ruang dan dapat dicari serta dibandingkan dengan cepat."
   ]
  },
  {
   "cell_type": "markdown",
   "id": "6a5e11d0",
   "metadata": {},
   "source": [
    "### Install library"
   ]
  },
  {
   "cell_type": "code",
   "execution_count": 1,
   "id": "235c20d6",
   "metadata": {},
   "outputs": [
    {
     "name": "stdout",
     "output_type": "stream",
     "text": [
      "Requirement already satisfied: imagehash in c:\\users\\hangg\\anaconda3\\lib\\site-packages (4.2.1)\n",
      "Requirement already satisfied: pillow in c:\\users\\hangg\\anaconda3\\lib\\site-packages (from imagehash) (8.2.0)\n",
      "Requirement already satisfied: six in c:\\users\\hangg\\anaconda3\\lib\\site-packages (from imagehash) (1.15.0)\n",
      "Requirement already satisfied: scipy in c:\\users\\hangg\\anaconda3\\lib\\site-packages (from imagehash) (1.6.2)\n",
      "Requirement already satisfied: PyWavelets in c:\\users\\hangg\\anaconda3\\lib\\site-packages (from imagehash) (1.1.1)\n",
      "Requirement already satisfied: numpy in c:\\users\\hangg\\anaconda3\\lib\\site-packages (from imagehash) (1.19.5)\n"
     ]
    }
   ],
   "source": [
    "import sys\n",
    "!{sys.executable} -m pip install imagehash"
   ]
  },
  {
   "cell_type": "markdown",
   "id": "f929a2c5",
   "metadata": {},
   "source": [
    "## Average Hash Image"
   ]
  },
  {
   "cell_type": "code",
   "execution_count": 2,
   "id": "24952de9",
   "metadata": {},
   "outputs": [
    {
     "name": "stdout",
     "output_type": "stream",
     "text": [
      "Hash Gambar 1: fffff9efff0f0000\n",
      "Hash Gambar 2: ffff9ff7fff00000\n",
      "Gambar berbeda, perbedaan hash: 14\n"
     ]
    }
   ],
   "source": [
    "#Import Library\n",
    "from PIL import Image\n",
    "import imagehash\n",
    "\n",
    "#Membuat Objek hash gambar 1\n",
    "HashGambar1 = imagehash.average_hash(Image.open('D:/Gambar/Whale.jpg')) #Sesuaikan dengan directory\n",
    "print('Hash Gambar 1: ' + str(HashGambar1))\n",
    "\n",
    "#Membuat Objek hash gambar 2\n",
    "HashGambar2 = imagehash.average_hash(Image.open('D:/Gambar/Whalee.jpg')) #Sesuaikan dengan directory\n",
    "print('Hash Gambar 2: ' + str(HashGambar2))\n",
    "\n",
    "#Membandingkan Objek Hash\n",
    "if(HashGambar1 == HashGambar2):\n",
    "    print(\"Gambar mirip!\")\n",
    "else:\n",
    "    print(\"Gambar berbeda, perbedaan hash: \" + str(HashGambar1 - HashGambar2))"
   ]
  },
  {
   "cell_type": "code",
   "execution_count": 3,
   "id": "9528e61d",
   "metadata": {},
   "outputs": [
    {
     "name": "stdout",
     "output_type": "stream",
     "text": [
      "Hash Gambar 1: fffff9efff0f0000\n",
      "Hash Gambar 2: fffff9efff0f0000\n",
      "Gambar mirip!\n"
     ]
    }
   ],
   "source": [
    "#Import Library\n",
    "from PIL import Image\n",
    "import imagehash\n",
    "\n",
    "#Membuat Objek hash gambar 1\n",
    "HashGambar1 = imagehash.average_hash(Image.open('D:/Gambar/Whale.jpg'))\n",
    "print('Hash Gambar 1: ' + str(HashGambar1))\n",
    "\n",
    "#Membuat Objek hash gambar 2\n",
    "HashGambar2 = imagehash.average_hash(Image.open('D:/Gambar/Whale.jpg'))\n",
    "print('Hash Gambar 2: ' + str(HashGambar2))\n",
    "\n",
    "#Membandingkan Objek Hash\n",
    "if(HashGambar1 == HashGambar2):\n",
    "    print(\"Gambar mirip!\")\n",
    "else:\n",
    "    print(\"Gambar berbeda, perbedaan hash: \" + str(HashGambar1 - HashGambar2))"
   ]
  },
  {
   "cell_type": "markdown",
   "id": "d49025fd",
   "metadata": {},
   "source": [
    "## Perception Hashing"
   ]
  },
  {
   "cell_type": "code",
   "execution_count": 4,
   "id": "87eac39b",
   "metadata": {},
   "outputs": [
    {
     "name": "stdout",
     "output_type": "stream",
     "text": [
      "Hash Gambar 1: 81cf6e90d1370dce\n",
      "Hash Gambar 2: d49a3bc5a462d89b\n",
      "Gambar berbeda, perbedaan hash: 34\n"
     ]
    }
   ],
   "source": [
    "#Import Library\n",
    "from PIL import Image\n",
    "import imagehash\n",
    "\n",
    "#Membuat Objek hash gambar 1\n",
    "HashGambar1 = imagehash.phash(Image.open('D:/Gambar/Whale.jpg'))\n",
    "print('Hash Gambar 1: ' + str(HashGambar1))\n",
    "\n",
    "#Membuat Objek hash gambar 2\n",
    "HashGambar2 = imagehash.phash(Image.open('D:/Gambar/Whalee.jpg'))\n",
    "print('Hash Gambar 2: ' + str(HashGambar2))\n",
    "\n",
    "#Membandingkan Objek Hash\n",
    "if(HashGambar1 == HashGambar2):\n",
    "    print(\"Gambar mirip!\")\n",
    "else:\n",
    "    print(\"Gambar berbeda, perbedaan hash: \" + str(HashGambar1 - HashGambar2))"
   ]
  },
  {
   "cell_type": "code",
   "execution_count": 5,
   "id": "f5f21919",
   "metadata": {},
   "outputs": [
    {
     "name": "stdout",
     "output_type": "stream",
     "text": [
      "Hash Gambar 1: 81cf6e90d1370dce\n",
      "Hash Gambar 2: 81cf6e90d1370dce\n",
      "Gambar mirip!\n"
     ]
    }
   ],
   "source": [
    "#Import Library\n",
    "from PIL import Image\n",
    "import imagehash\n",
    "\n",
    "#Membuat Objek hash gambar 1\n",
    "HashGambar1 = imagehash.phash(Image.open('D:/Gambar/Whale.jpg'))\n",
    "print('Hash Gambar 1: ' + str(HashGambar1))\n",
    "\n",
    "#Membuat Objek hash gambar 2\n",
    "HashGambar2 = imagehash.phash(Image.open('D:/Gambar/Whale.jpg'))\n",
    "print('Hash Gambar 2: ' + str(HashGambar2))\n",
    "\n",
    "#Membandingkan Objek Hash\n",
    "if(HashGambar1 == HashGambar2):\n",
    "    print(\"Gambar mirip!\")\n",
    "else:\n",
    "    print(\"Gambar berbeda, perbedaan hash: \" + str(HashGambar1 - HashGambar2))"
   ]
  },
  {
   "cell_type": "markdown",
   "id": "5579ab4d",
   "metadata": {},
   "source": [
    "## Difference Hashing"
   ]
  },
  {
   "cell_type": "code",
   "execution_count": 6,
   "id": "8064d309",
   "metadata": {},
   "outputs": [
    {
     "name": "stdout",
     "output_type": "stream",
     "text": [
      "Hash Gambar 1: e0f1631ef0fc1fc0\n",
      "Hash Gambar 2: f0703987f0c007f4\n",
      "Gambar berbeda, perbedaan hash: 20\n"
     ]
    }
   ],
   "source": [
    "#Import Library\n",
    "from PIL import Image\n",
    "import imagehash\n",
    "\n",
    "#Membuat Objek hash gambar 1\n",
    "HashGambar1 = imagehash.dhash(Image.open('D:/Gambar/Whale.jpg'))\n",
    "print('Hash Gambar 1: ' + str(HashGambar1))\n",
    "\n",
    "#Membuat Objek hash gambar 2\n",
    "HashGambar2 = imagehash.dhash(Image.open('D:/Gambar/Whalee.jpg'))\n",
    "print('Hash Gambar 2: ' + str(HashGambar2))\n",
    "\n",
    "#Membandingkan Objek Hash\n",
    "if(HashGambar1 == HashGambar2):\n",
    "    print(\"Gambar mirip!\")\n",
    "else:\n",
    "    print(\"Gambar berbeda, perbedaan hash: \" + str(HashGambar1 - HashGambar2))"
   ]
  },
  {
   "cell_type": "code",
   "execution_count": 7,
   "id": "c0c15098",
   "metadata": {},
   "outputs": [
    {
     "name": "stdout",
     "output_type": "stream",
     "text": [
      "Hash Gambar 1: e0f1631ef0fc1fc0\n",
      "Hash Gambar 2: e0f1631ef0fc1fc0\n",
      "Gambar mirip!\n"
     ]
    }
   ],
   "source": [
    "#Import Library\n",
    "from PIL import Image\n",
    "import imagehash\n",
    "\n",
    "#Membuat Objek hash gambar 1\n",
    "HashGambar1 = imagehash.dhash(Image.open('D:/Gambar/Whale.jpg'))\n",
    "print('Hash Gambar 1: ' + str(HashGambar1))\n",
    "\n",
    "#Membuat Objek hash gambar 2\n",
    "HashGambar2 = imagehash.dhash(Image.open('D:/Gambar/Whale.jpg'))\n",
    "print('Hash Gambar 2: ' + str(HashGambar2))\n",
    "\n",
    "#Membandingkan Objek Hash\n",
    "if(HashGambar1 == HashGambar2):\n",
    "    print(\"Gambar mirip!\")\n",
    "else:\n",
    "    print(\"Gambar berbeda, perbedaan hash: \" + str(HashGambar1 - HashGambar2))"
   ]
  },
  {
   "cell_type": "markdown",
   "id": "6e9681a9",
   "metadata": {},
   "source": [
    "## Wavelet Hashing"
   ]
  },
  {
   "cell_type": "code",
   "execution_count": 8,
   "id": "891f3041",
   "metadata": {},
   "outputs": [
    {
     "name": "stdout",
     "output_type": "stream",
     "text": [
      "Hash Gambar 1: 10fef1efff0f0000\n",
      "Hash Gambar 2: 087f8ff7fff00000\n",
      "Gambar berbeda, perbedaan hash: 20\n"
     ]
    }
   ],
   "source": [
    "#Import Library\n",
    "from PIL import Image\n",
    "import imagehash\n",
    "\n",
    "#Membuat Objek hash gambar 1\n",
    "HashGambar1 = imagehash.whash(Image.open('D:/Gambar/Whale.jpg'))\n",
    "print('Hash Gambar 1: ' + str(HashGambar1))\n",
    "\n",
    "#Membuat Objek hash gambar 2\n",
    "HashGambar2 = imagehash.whash(Image.open('D:/Gambar/Whalee.jpg'))\n",
    "print('Hash Gambar 2: ' + str(HashGambar2))\n",
    "\n",
    "#Membandingkan Objek Hash\n",
    "if(HashGambar1 == HashGambar2):\n",
    "    print(\"Gambar mirip!\")\n",
    "else:\n",
    "    print(\"Gambar berbeda, perbedaan hash: \" + str(HashGambar1 - HashGambar2))"
   ]
  },
  {
   "cell_type": "code",
   "execution_count": 9,
   "id": "05d40be9",
   "metadata": {},
   "outputs": [
    {
     "name": "stdout",
     "output_type": "stream",
     "text": [
      "Hash Gambar 1: 10fef1efff0f0000\n",
      "Hash Gambar 2: 10fef1efff0f0000\n",
      "Gambar mirip!\n"
     ]
    }
   ],
   "source": [
    "#Import Library\n",
    "from PIL import Image\n",
    "import imagehash\n",
    "\n",
    "#Membuat Objek hash gambar 1\n",
    "HashGambar1 = imagehash.whash(Image.open('D:/Gambar/Whale.jpg'))\n",
    "print('Hash Gambar 1: ' + str(HashGambar1))\n",
    "\n",
    "#Membuat Objek hash gambar 2\n",
    "HashGambar2 = imagehash.whash(Image.open('D:/Gambar/Whale.jpg'))\n",
    "print('Hash Gambar 2: ' + str(HashGambar2))\n",
    "\n",
    "#Membandingkan Objek Hash\n",
    "if(HashGambar1 == HashGambar2):\n",
    "    print(\"Gambar mirip!\")\n",
    "else:\n",
    "    print(\"Gambar berbeda, perbedaan hash: \" + str(HashGambar1 - HashGambar2))"
   ]
  }
 ],
 "metadata": {
  "kernelspec": {
   "display_name": "Python 3",
   "language": "python",
   "name": "python3"
  },
  "language_info": {
   "codemirror_mode": {
    "name": "ipython",
    "version": 3
   },
   "file_extension": ".py",
   "mimetype": "text/x-python",
   "name": "python",
   "nbconvert_exporter": "python",
   "pygments_lexer": "ipython3",
   "version": "3.8.8"
  }
 },
 "nbformat": 4,
 "nbformat_minor": 5
}
