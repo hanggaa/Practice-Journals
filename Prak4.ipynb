{
 "cells": [
  {
   "cell_type": "markdown",
   "id": "4c27c1e1",
   "metadata": {},
   "source": [
    "## Install library Beautiful Soup"
   ]
  },
  {
   "cell_type": "code",
   "execution_count": 1,
   "id": "bb48a611",
   "metadata": {},
   "outputs": [
    {
     "name": "stdout",
     "output_type": "stream",
     "text": [
      "Requirement already satisfied: bs4 in c:\\users\\hangg\\anaconda3\\lib\\site-packages (0.0.1)\n",
      "Requirement already satisfied: beautifulsoup4 in c:\\users\\hangg\\anaconda3\\lib\\site-packages (from bs4) (4.9.3)\n",
      "Requirement already satisfied: soupsieve>1.2 in c:\\users\\hangg\\anaconda3\\lib\\site-packages (from beautifulsoup4->bs4) (2.2.1)\n"
     ]
    }
   ],
   "source": [
    "import sys\n",
    "!{sys.executable} -m pip install bs4"
   ]
  },
  {
   "cell_type": "markdown",
   "id": "678e7848",
   "metadata": {},
   "source": [
    "## Source Code Web Scrape"
   ]
  },
  {
   "cell_type": "code",
   "execution_count": 2,
   "id": "89198a2f",
   "metadata": {},
   "outputs": [
    {
     "name": "stdout",
     "output_type": "stream",
     "text": [
      "        Date     Price      Open      High       Low   Vol. Change %\n",
      "0  12-Oct-21  56,602.0  57,468.0  57,493.0  56,443.0  7.44K   -1.51%\n",
      "1  11-Oct-21  57,468.0  54,701.0  57,802.5  54,430.0  7.51K    5.06%\n",
      "2  10-Oct-21  54,701.0  54,978.0  56,414.0  54,173.0  5.84K   -0.50%\n"
     ]
    }
   ],
   "source": [
    "import requests\n",
    "from bs4 import BeautifulSoup\n",
    "import pandas as pd\n",
    "import csv\n",
    "from datetime import date\n",
    "import datetime\n",
    "import numpy as np\n",
    "from matplotlib import pyplot as plt\n",
    "from sklearn.linear_model import LinearRegression\n",
    "from sklearn.metrics import mean_squared_error\n",
    "import statsmodels.stats.api\n",
    "import statsmodels.formula.api\n",
    "\n",
    "today = date.today()\n",
    "today=date.strftime(today,'%d/%m/%Y')\n",
    "urlheader = {\n",
    "    \"User-Agent\": \"Mozilla/5.0 (Linux; Android 6.0; Nexus 5 Build/MRA58N) AppleWebKit/537.36 (KHTML, like Gecko) Chrome/94.0.4606.61 Mobile Safari/537.36\",\n",
    "    \"X-Requested-With\": \"XMLHttpRequest\"\n",
    "}\n",
    "filename=['D:\\BTC_USD Bitfinex Historical Data.csv'] #Pastikan sesuai dengan tempat Directory penyimpanan file yang sudah kalian download\n",
    "url = \"https://www.investing.com/instruments/HistoricalDataAjax\"\n",
    "\n",
    "\n",
    "for each in filename:\n",
    "    with open(each, 'r') as readFile:\n",
    "        reader = csv.reader(readFile)\n",
    "        lines = list(reader)\n",
    "    startdate=lines[1][0]\n",
    "    startdate=datetime.datetime.strptime(startdate,'%b %d, %Y')\n",
    "    startdate += datetime.timedelta(days=1)\n",
    "    startdate=startdate.strftime('%d/%m/%Y')\n",
    "    readFile.close()\n",
    "    if (each == 'D:\\BTC_USD Bitfinex Historical Data.csv'): #Pastikan sesuai dengan tempat Directory penyimpanan file yang sudah kalian download \n",
    "        header=\"BTC/USD Bitfinex Historical Data\"\n",
    "        curr_id=\"945629\"\n",
    "        smlID= \"145284\"\n",
    "        column_name='BTC Price'\n",
    " \n",
    "    payload = {'header': header, \n",
    "               'st_date': startdate, 'end_date': today, \n",
    "               'sort_col': 'date', 'action': 'historical_data', \n",
    "               'smlID': smlID, 'sort_ord': 'DESC', 'interval_sec': 'Daily', 'curr_id': curr_id}\n",
    "\n",
    "    req = requests.post(url, headers=urlheader, data=payload)\n",
    "    soup = BeautifulSoup(req.content, \"lxml\")\n",
    "    table = soup.find('table', id=\"curr_table\")\n",
    "    split_rows = table.find_all(\"tr\")\n",
    "    rows = table.findAll('tr')\n",
    "    header_text = []\n",
    "    headers = rows[0]\n",
    "    \n",
    "    \n",
    "    for th in headers.findAll('th'):\n",
    "        header_text.append(th.text)\n",
    "        \n",
    "    del header_text[2:]\n",
    "    \n",
    "    row_text_array = []\n",
    "    for row in rows[1:]:\n",
    "        row_text = []\n",
    "        for row_element in row.findAll(['th', 'td']):\n",
    "            row_text.append(row_element.text.replace('\\n', '').strip())\n",
    "        del row_text[2:]\n",
    "        row_text_array.append(row_text)\n",
    "    \n",
    "    df = pd.read_csv(each)\n",
    "    \n",
    "    df1 = pd.DataFrame(row_text_array)\n",
    "    \n",
    "    df1.rename(columns={0:'Date',1:column_name}, inplace=True)\n",
    "    df=df.append(df1,sort=False)\n",
    "    df=df.dropna()\n",
    "    df['Date']= pd.to_datetime(df['Date'])\n",
    "    df = df.sort_values('Date',ascending=False)\n",
    "    \n",
    "    df['Date']= df['Date'].dt.strftime('%d-%b-%y')\n",
    "    print(df.head(3))\n",
    "    df.to_csv(each,index=False)"
   ]
  },
  {
   "cell_type": "markdown",
   "id": "fd5c7585",
   "metadata": {},
   "source": [
    "## Mengetahui informasi data yang telah di-scrape"
   ]
  },
  {
   "cell_type": "code",
   "execution_count": 3,
   "id": "e23e649e",
   "metadata": {},
   "outputs": [
    {
     "data": {
      "text/html": [
       "<div>\n",
       "<style scoped>\n",
       "    .dataframe tbody tr th:only-of-type {\n",
       "        vertical-align: middle;\n",
       "    }\n",
       "\n",
       "    .dataframe tbody tr th {\n",
       "        vertical-align: top;\n",
       "    }\n",
       "\n",
       "    .dataframe thead th {\n",
       "        text-align: right;\n",
       "    }\n",
       "</style>\n",
       "<table border=\"1\" class=\"dataframe\">\n",
       "  <thead>\n",
       "    <tr style=\"text-align: right;\">\n",
       "      <th></th>\n",
       "      <th>Date</th>\n",
       "      <th>Price</th>\n",
       "      <th>Open</th>\n",
       "      <th>High</th>\n",
       "      <th>Low</th>\n",
       "      <th>Vol.</th>\n",
       "      <th>Change %</th>\n",
       "    </tr>\n",
       "  </thead>\n",
       "  <tbody>\n",
       "    <tr>\n",
       "      <th>0</th>\n",
       "      <td>12-Oct-21</td>\n",
       "      <td>56,602.0</td>\n",
       "      <td>57,468.0</td>\n",
       "      <td>57,493.0</td>\n",
       "      <td>56,443.0</td>\n",
       "      <td>7.44K</td>\n",
       "      <td>-1.51%</td>\n",
       "    </tr>\n",
       "    <tr>\n",
       "      <th>1</th>\n",
       "      <td>11-Oct-21</td>\n",
       "      <td>57,468.0</td>\n",
       "      <td>54,701.0</td>\n",
       "      <td>57,802.5</td>\n",
       "      <td>54,430.0</td>\n",
       "      <td>7.51K</td>\n",
       "      <td>5.06%</td>\n",
       "    </tr>\n",
       "    <tr>\n",
       "      <th>2</th>\n",
       "      <td>10-Oct-21</td>\n",
       "      <td>54,701.0</td>\n",
       "      <td>54,978.0</td>\n",
       "      <td>56,414.0</td>\n",
       "      <td>54,173.0</td>\n",
       "      <td>5.84K</td>\n",
       "      <td>-0.50%</td>\n",
       "    </tr>\n",
       "    <tr>\n",
       "      <th>3</th>\n",
       "      <td>09-Oct-21</td>\n",
       "      <td>54,978.0</td>\n",
       "      <td>53,925.0</td>\n",
       "      <td>55,443.7</td>\n",
       "      <td>53,711.0</td>\n",
       "      <td>2.44K</td>\n",
       "      <td>1.95%</td>\n",
       "    </tr>\n",
       "  </tbody>\n",
       "</table>\n",
       "</div>"
      ],
      "text/plain": [
       "        Date     Price      Open      High       Low   Vol. Change %\n",
       "0  12-Oct-21  56,602.0  57,468.0  57,493.0  56,443.0  7.44K   -1.51%\n",
       "1  11-Oct-21  57,468.0  54,701.0  57,802.5  54,430.0  7.51K    5.06%\n",
       "2  10-Oct-21  54,701.0  54,978.0  56,414.0  54,173.0  5.84K   -0.50%\n",
       "3  09-Oct-21  54,978.0  53,925.0  55,443.7  53,711.0  2.44K    1.95%"
      ]
     },
     "execution_count": 3,
     "metadata": {},
     "output_type": "execute_result"
    }
   ],
   "source": [
    "df.head(4)"
   ]
  },
  {
   "cell_type": "code",
   "execution_count": 4,
   "id": "09975fff",
   "metadata": {},
   "outputs": [
    {
     "data": {
      "text/html": [
       "<div>\n",
       "<style scoped>\n",
       "    .dataframe tbody tr th:only-of-type {\n",
       "        vertical-align: middle;\n",
       "    }\n",
       "\n",
       "    .dataframe tbody tr th {\n",
       "        vertical-align: top;\n",
       "    }\n",
       "\n",
       "    .dataframe thead th {\n",
       "        text-align: right;\n",
       "    }\n",
       "</style>\n",
       "<table border=\"1\" class=\"dataframe\">\n",
       "  <thead>\n",
       "    <tr style=\"text-align: right;\">\n",
       "      <th></th>\n",
       "      <th>Date</th>\n",
       "      <th>Price</th>\n",
       "      <th>Open</th>\n",
       "      <th>High</th>\n",
       "      <th>Low</th>\n",
       "      <th>Vol.</th>\n",
       "      <th>Change %</th>\n",
       "    </tr>\n",
       "  </thead>\n",
       "  <tbody>\n",
       "    <tr>\n",
       "      <th>count</th>\n",
       "      <td>3537</td>\n",
       "      <td>3537</td>\n",
       "      <td>3537</td>\n",
       "      <td>3537</td>\n",
       "      <td>3537</td>\n",
       "      <td>3537</td>\n",
       "      <td>3537</td>\n",
       "    </tr>\n",
       "    <tr>\n",
       "      <th>unique</th>\n",
       "      <td>3537</td>\n",
       "      <td>3055</td>\n",
       "      <td>3044</td>\n",
       "      <td>3003</td>\n",
       "      <td>3019</td>\n",
       "      <td>1922</td>\n",
       "      <td>1323</td>\n",
       "    </tr>\n",
       "    <tr>\n",
       "      <th>top</th>\n",
       "      <td>31-Jan-20</td>\n",
       "      <td>5.1</td>\n",
       "      <td>5.1</td>\n",
       "      <td>5.1</td>\n",
       "      <td>5.1</td>\n",
       "      <td>-</td>\n",
       "      <td>0.00%</td>\n",
       "    </tr>\n",
       "    <tr>\n",
       "      <th>freq</th>\n",
       "      <td>1</td>\n",
       "      <td>26</td>\n",
       "      <td>26</td>\n",
       "      <td>26</td>\n",
       "      <td>26</td>\n",
       "      <td>660</td>\n",
       "      <td>135</td>\n",
       "    </tr>\n",
       "  </tbody>\n",
       "</table>\n",
       "</div>"
      ],
      "text/plain": [
       "             Date Price  Open  High   Low  Vol. Change %\n",
       "count        3537  3537  3537  3537  3537  3537     3537\n",
       "unique       3537  3055  3044  3003  3019  1922     1323\n",
       "top     31-Jan-20   5.1   5.1   5.1   5.1     -    0.00%\n",
       "freq            1    26    26    26    26   660      135"
      ]
     },
     "execution_count": 4,
     "metadata": {},
     "output_type": "execute_result"
    }
   ],
   "source": [
    "df.describe()"
   ]
  },
  {
   "cell_type": "code",
   "execution_count": 5,
   "id": "fd736db2",
   "metadata": {},
   "outputs": [
    {
     "data": {
      "text/plain": [
       "(3537, 7)"
      ]
     },
     "execution_count": 5,
     "metadata": {},
     "output_type": "execute_result"
    }
   ],
   "source": [
    "df.shape"
   ]
  },
  {
   "cell_type": "code",
   "execution_count": 6,
   "id": "499a96fb",
   "metadata": {},
   "outputs": [
    {
     "data": {
      "text/plain": [
       "Date        object\n",
       "Price       object\n",
       "Open        object\n",
       "High        object\n",
       "Low         object\n",
       "Vol.        object\n",
       "Change %    object\n",
       "dtype: object"
      ]
     },
     "execution_count": 6,
     "metadata": {},
     "output_type": "execute_result"
    }
   ],
   "source": [
    "df.dtypes"
   ]
  },
  {
   "cell_type": "code",
   "execution_count": 7,
   "id": "bc15eb6c",
   "metadata": {},
   "outputs": [
    {
     "name": "stdout",
     "output_type": "stream",
     "text": [
      "<class 'pandas.core.frame.DataFrame'>\n",
      "Int64Index: 3537 entries, 0 to 3536\n",
      "Data columns (total 7 columns):\n",
      " #   Column    Non-Null Count  Dtype \n",
      "---  ------    --------------  ----- \n",
      " 0   Date      3537 non-null   object\n",
      " 1   Price     3537 non-null   object\n",
      " 2   Open      3537 non-null   object\n",
      " 3   High      3537 non-null   object\n",
      " 4   Low       3537 non-null   object\n",
      " 5   Vol.      3537 non-null   object\n",
      " 6   Change %  3537 non-null   object\n",
      "dtypes: object(7)\n",
      "memory usage: 221.1+ KB\n"
     ]
    }
   ],
   "source": [
    "df.info()"
   ]
  },
  {
   "cell_type": "markdown",
   "id": "20a92c76",
   "metadata": {},
   "source": [
    "### Mining beberapa kolom yang dibutuhkan untuk analisa data sekaligus mengetahui informasi setelah dilakukan mining"
   ]
  },
  {
   "cell_type": "code",
   "execution_count": 8,
   "id": "d4faf1f1",
   "metadata": {},
   "outputs": [],
   "source": [
    "df['Date'] = pd.to_datetime(df['Date'])\n",
    "df['Price'] = df['Price'].str.replace(',', '').astype(float)\n",
    "df['Open'] = df['Open'].str.replace(',', '').astype(float)\n",
    "df['High'] = df['High'].str.replace(',', '').astype(float)\n",
    "df['Low'] = df['Low'].str.replace(',', '').astype(float)"
   ]
  },
  {
   "cell_type": "code",
   "execution_count": 9,
   "id": "1d637ce5",
   "metadata": {},
   "outputs": [
    {
     "data": {
      "text/html": [
       "<div>\n",
       "<style scoped>\n",
       "    .dataframe tbody tr th:only-of-type {\n",
       "        vertical-align: middle;\n",
       "    }\n",
       "\n",
       "    .dataframe tbody tr th {\n",
       "        vertical-align: top;\n",
       "    }\n",
       "\n",
       "    .dataframe thead th {\n",
       "        text-align: right;\n",
       "    }\n",
       "</style>\n",
       "<table border=\"1\" class=\"dataframe\">\n",
       "  <thead>\n",
       "    <tr style=\"text-align: right;\">\n",
       "      <th></th>\n",
       "      <th>Date</th>\n",
       "      <th>Price</th>\n",
       "      <th>Open</th>\n",
       "      <th>High</th>\n",
       "      <th>Low</th>\n",
       "      <th>Vol.</th>\n",
       "      <th>Change %</th>\n",
       "    </tr>\n",
       "  </thead>\n",
       "  <tbody>\n",
       "    <tr>\n",
       "      <th>0</th>\n",
       "      <td>2021-10-12</td>\n",
       "      <td>56602.0</td>\n",
       "      <td>57468.0</td>\n",
       "      <td>57493.0</td>\n",
       "      <td>56443.0</td>\n",
       "      <td>7.44K</td>\n",
       "      <td>-1.51%</td>\n",
       "    </tr>\n",
       "    <tr>\n",
       "      <th>1</th>\n",
       "      <td>2021-10-11</td>\n",
       "      <td>57468.0</td>\n",
       "      <td>54701.0</td>\n",
       "      <td>57802.5</td>\n",
       "      <td>54430.0</td>\n",
       "      <td>7.51K</td>\n",
       "      <td>5.06%</td>\n",
       "    </tr>\n",
       "    <tr>\n",
       "      <th>2</th>\n",
       "      <td>2021-10-10</td>\n",
       "      <td>54701.0</td>\n",
       "      <td>54978.0</td>\n",
       "      <td>56414.0</td>\n",
       "      <td>54173.0</td>\n",
       "      <td>5.84K</td>\n",
       "      <td>-0.50%</td>\n",
       "    </tr>\n",
       "    <tr>\n",
       "      <th>3</th>\n",
       "      <td>2021-10-09</td>\n",
       "      <td>54978.0</td>\n",
       "      <td>53925.0</td>\n",
       "      <td>55443.7</td>\n",
       "      <td>53711.0</td>\n",
       "      <td>2.44K</td>\n",
       "      <td>1.95%</td>\n",
       "    </tr>\n",
       "  </tbody>\n",
       "</table>\n",
       "</div>"
      ],
      "text/plain": [
       "        Date    Price     Open     High      Low   Vol. Change %\n",
       "0 2021-10-12  56602.0  57468.0  57493.0  56443.0  7.44K   -1.51%\n",
       "1 2021-10-11  57468.0  54701.0  57802.5  54430.0  7.51K    5.06%\n",
       "2 2021-10-10  54701.0  54978.0  56414.0  54173.0  5.84K   -0.50%\n",
       "3 2021-10-09  54978.0  53925.0  55443.7  53711.0  2.44K    1.95%"
      ]
     },
     "execution_count": 9,
     "metadata": {},
     "output_type": "execute_result"
    }
   ],
   "source": [
    "df.head(4)"
   ]
  },
  {
   "cell_type": "code",
   "execution_count": 10,
   "id": "17f547a3",
   "metadata": {},
   "outputs": [
    {
     "name": "stdout",
     "output_type": "stream",
     "text": [
      "<class 'pandas.core.frame.DataFrame'>\n",
      "Int64Index: 3537 entries, 0 to 3536\n",
      "Data columns (total 7 columns):\n",
      " #   Column    Non-Null Count  Dtype         \n",
      "---  ------    --------------  -----         \n",
      " 0   Date      3537 non-null   datetime64[ns]\n",
      " 1   Price     3537 non-null   float64       \n",
      " 2   Open      3537 non-null   float64       \n",
      " 3   High      3537 non-null   float64       \n",
      " 4   Low       3537 non-null   float64       \n",
      " 5   Vol.      3537 non-null   object        \n",
      " 6   Change %  3537 non-null   object        \n",
      "dtypes: datetime64[ns](1), float64(4), object(2)\n",
      "memory usage: 221.1+ KB\n"
     ]
    }
   ],
   "source": [
    "df.info()"
   ]
  },
  {
   "cell_type": "code",
   "execution_count": 11,
   "id": "b2becf06",
   "metadata": {},
   "outputs": [
    {
     "data": {
      "text/html": [
       "<div>\n",
       "<style scoped>\n",
       "    .dataframe tbody tr th:only-of-type {\n",
       "        vertical-align: middle;\n",
       "    }\n",
       "\n",
       "    .dataframe tbody tr th {\n",
       "        vertical-align: top;\n",
       "    }\n",
       "\n",
       "    .dataframe thead th {\n",
       "        text-align: right;\n",
       "    }\n",
       "</style>\n",
       "<table border=\"1\" class=\"dataframe\">\n",
       "  <thead>\n",
       "    <tr style=\"text-align: right;\">\n",
       "      <th></th>\n",
       "      <th>Price</th>\n",
       "      <th>Open</th>\n",
       "      <th>High</th>\n",
       "      <th>Low</th>\n",
       "    </tr>\n",
       "  </thead>\n",
       "  <tbody>\n",
       "    <tr>\n",
       "      <th>count</th>\n",
       "      <td>3537.000000</td>\n",
       "      <td>3537.000000</td>\n",
       "      <td>3537.000000</td>\n",
       "      <td>3537.000000</td>\n",
       "    </tr>\n",
       "    <tr>\n",
       "      <th>mean</th>\n",
       "      <td>6882.641165</td>\n",
       "      <td>6867.310913</td>\n",
       "      <td>7060.097653</td>\n",
       "      <td>6666.455160</td>\n",
       "    </tr>\n",
       "    <tr>\n",
       "      <th>std</th>\n",
       "      <td>12351.245934</td>\n",
       "      <td>12323.964251</td>\n",
       "      <td>12664.668783</td>\n",
       "      <td>11974.408705</td>\n",
       "    </tr>\n",
       "    <tr>\n",
       "      <th>min</th>\n",
       "      <td>4.200000</td>\n",
       "      <td>4.200000</td>\n",
       "      <td>4.200000</td>\n",
       "      <td>4.200000</td>\n",
       "    </tr>\n",
       "    <tr>\n",
       "      <th>25%</th>\n",
       "      <td>273.300000</td>\n",
       "      <td>273.300000</td>\n",
       "      <td>279.600000</td>\n",
       "      <td>267.300000</td>\n",
       "    </tr>\n",
       "    <tr>\n",
       "      <th>50%</th>\n",
       "      <td>872.600000</td>\n",
       "      <td>871.400000</td>\n",
       "      <td>901.500000</td>\n",
       "      <td>833.700000</td>\n",
       "    </tr>\n",
       "    <tr>\n",
       "      <th>75%</th>\n",
       "      <td>8230.100000</td>\n",
       "      <td>8230.000000</td>\n",
       "      <td>8423.500000</td>\n",
       "      <td>8019.700000</td>\n",
       "    </tr>\n",
       "    <tr>\n",
       "      <th>max</th>\n",
       "      <td>63518.000000</td>\n",
       "      <td>63518.000000</td>\n",
       "      <td>64374.000000</td>\n",
       "      <td>62348.000000</td>\n",
       "    </tr>\n",
       "  </tbody>\n",
       "</table>\n",
       "</div>"
      ],
      "text/plain": [
       "              Price          Open          High           Low\n",
       "count   3537.000000   3537.000000   3537.000000   3537.000000\n",
       "mean    6882.641165   6867.310913   7060.097653   6666.455160\n",
       "std    12351.245934  12323.964251  12664.668783  11974.408705\n",
       "min        4.200000      4.200000      4.200000      4.200000\n",
       "25%      273.300000    273.300000    279.600000    267.300000\n",
       "50%      872.600000    871.400000    901.500000    833.700000\n",
       "75%     8230.100000   8230.000000   8423.500000   8019.700000\n",
       "max    63518.000000  63518.000000  64374.000000  62348.000000"
      ]
     },
     "execution_count": 11,
     "metadata": {},
     "output_type": "execute_result"
    }
   ],
   "source": [
    "df.describe()"
   ]
  },
  {
   "cell_type": "markdown",
   "id": "900b50bd",
   "metadata": {},
   "source": [
    "### Olah Data"
   ]
  },
  {
   "cell_type": "code",
   "execution_count": 12,
   "id": "8d08f645",
   "metadata": {},
   "outputs": [],
   "source": [
    "avgp = df.groupby('Date')['Price'].mean()"
   ]
  },
  {
   "cell_type": "code",
   "execution_count": 13,
   "id": "10e99043",
   "metadata": {},
   "outputs": [],
   "source": [
    "x = avgp.index\n",
    "y = avgp.values"
   ]
  },
  {
   "cell_type": "code",
   "execution_count": 14,
   "id": "3e9b7d40",
   "metadata": {},
   "outputs": [
    {
     "data": {
      "text/plain": [
       "Text(0.5, 1.0, 'Pergerakan Harga Bitcoin')"
      ]
     },
     "execution_count": 14,
     "metadata": {},
     "output_type": "execute_result"
    },
    {
     "data": {
      "image/png": "[encoded data removed]",
      "text/plain": [
       "<Figure size 1152x576 with 1 Axes>"
      ]
     },
     "metadata": {
      "needs_background": "light"
     },
     "output_type": "display_data"
    }
   ],
   "source": [
    "plt.figure(figsize=(16,8))\n",
    "plt.scatter(x,y)\n",
    "plt.plot(x,y)\n",
    "plt.xlabel('Tahun')\n",
    "plt.ylabel('Pergerakan Harga')\n",
    "plt.title('Pergerakan Harga Bitcoin')"
   ]
  },
  {
   "cell_type": "code",
   "execution_count": 15,
   "id": "ae68d2e1",
   "metadata": {},
   "outputs": [
    {
     "data": {
      "text/plain": [
       "LinearRegression()"
      ]
     },
     "execution_count": 15,
     "metadata": {},
     "output_type": "execute_result"
    }
   ],
   "source": [
    "linreg = LinearRegression()\n",
    "x=np.array(x).reshape(-1,1)\n",
    "linreg.fit(x,y)"
   ]
  },
  {
   "cell_type": "code",
   "execution_count": 16,
   "id": "70e61d85",
   "metadata": {},
   "outputs": [],
   "source": [
    "P_2021 = np.array(2021).reshape(-1,1)\n",
    "pred_P = linreg.predict(P_2021)"
   ]
  },
  {
   "cell_type": "code",
   "execution_count": 17,
   "id": "47a62717",
   "metadata": {},
   "outputs": [
    {
     "name": "stdout",
     "output_type": "stream",
     "text": [
      "Prediksi rata-rata harga tahun 2021 =  -134180.54578409265\n"
     ]
    }
   ],
   "source": [
    "print('Prediksi rata-rata harga tahun 2021 = ', pred_P.item())"
   ]
  },
  {
   "cell_type": "code",
   "execution_count": 18,
   "id": "56208b2f",
   "metadata": {},
   "outputs": [
    {
     "name": "stdout",
     "output_type": "stream",
     "text": [
      "                            OLS Regression Results                            \n",
      "==============================================================================\n",
      "Dep. Variable:                  Price   R-squared:                       0.999\n",
      "Model:                            OLS   Adj. R-squared:                  0.999\n",
      "Method:                 Least Squares   F-statistic:                 1.904e+06\n",
      "Date:                Tue, 12 Oct 2021   Prob (F-statistic):               0.00\n",
      "Time:                        11:32:26   Log-Likelihood:                -25992.\n",
      "No. Observations:                3537   AIC:                         5.199e+04\n",
      "Df Residuals:                    3534   BIC:                         5.201e+04\n",
      "Df Model:                           2                                         \n",
      "Covariance Type:            nonrobust                                         \n",
      "==============================================================================\n",
      "                 coef    std err          t      P>|t|      [0.025      0.975]\n",
      "------------------------------------------------------------------------------\n",
      "Intercept      0.7297      7.242      0.101      0.920     -13.470      14.929\n",
      "High           1.1914      0.016     74.292      0.000       1.160       1.223\n",
      "Open          -0.2227      0.016    -13.514      0.000      -0.255      -0.190\n",
      "==============================================================================\n",
      "Omnibus:                     3768.832   Durbin-Watson:                   1.690\n",
      "Prob(Omnibus):                  0.000   Jarque-Bera (JB):           507682.840\n",
      "Skew:                          -5.073   Prob(JB):                         0.00\n",
      "Kurtosis:                      60.809   Cond. No.                     2.32e+04\n",
      "==============================================================================\n",
      "\n",
      "Notes:\n",
      "[1] Standard Errors assume that the covariance matrix of the errors is correctly specified.\n",
      "[2] The condition number is large, 2.32e+04. This might indicate that there are\n",
      "strong multicollinearity or other numerical problems.\n"
     ]
    }
   ],
   "source": [
    "regB = statsmodels.formula.api.ols('Price~High+Open', data = df).fit()\n",
    "print(regB.summary())"
   ]
  },
  {
   "cell_type": "code",
   "execution_count": null,
   "id": "e54fd403",
   "metadata": {},
   "outputs": [],
   "source": []
  }
 ],
 "metadata": {
  "kernelspec": {
   "display_name": "Python 3",
   "language": "python",
   "name": "python3"
  },
  "language_info": {
   "codemirror_mode": {
    "name": "ipython",
    "version": 3
   },
   "file_extension": ".py",
   "mimetype": "text/x-python",
   "name": "python",
   "nbconvert_exporter": "python",
   "pygments_lexer": "ipython3",
   "version": "3.8.8"
  }
 },
 "nbformat": 4,
 "nbformat_minor": 5
}
